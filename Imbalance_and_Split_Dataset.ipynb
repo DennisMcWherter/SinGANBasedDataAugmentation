{
 "cells": [
  {
   "cell_type": "markdown",
   "metadata": {},
   "source": [
    "# Imbalancing and Splitting Dataset\n",
    "We will split and imbalance our dataset. We split the data into test and training sets and also ensure imbalance across categories. This will help us focus on where to augment our data.\n",
    "\n",
    "### A note on directory structure\n",
    "We assume our data is structed by labels. For instance, a directory should contain `LABEL/data{1..n}.gif`."
   ]
  },
  {
   "cell_type": "code",
   "execution_count": 1,
   "metadata": {},
   "outputs": [],
   "source": [
    "from functools import reduce\n",
    "from matplotlib import pyplot as plt\n",
    "import numpy as np\n",
    "import pandas as pd\n",
    "from pathlib import Path\n",
    "\n",
    "from sklearn.model_selection import train_test_split"
   ]
  },
  {
   "cell_type": "code",
   "execution_count": 2,
   "metadata": {},
   "outputs": [],
   "source": [
    "# Enable reproducible results\n",
    "np.random.seed(123)"
   ]
  },
  {
   "cell_type": "code",
   "execution_count": 3,
   "metadata": {},
   "outputs": [],
   "source": [
    "def load_data(root_dir, label_load_percent=1.0, glob_pattern='./**/*.JPEG', path_label_idx=2):\n",
    "    path = Path(root_dir)\n",
    "    labeled_dirs = [x.glob(glob_pattern) for x in path.iterdir() if x.is_dir()]\n",
    "    \n",
    "    # Shuffle our labeled paths\n",
    "    np.random.shuffle(labeled_dirs)\n",
    "    \n",
    "    # Take only the specified percentage\n",
    "    last = int(len(labeled_dirs) * label_load_percent)\n",
    "    labeled_dirs = labeled_dirs[:last]\n",
    "    \n",
    "    # Load all data paths\n",
    "    data_paths = reduce(list.__add__, [[y for y in x if y.is_file()] for x in labeled_dirs])\n",
    "    \n",
    "    labels = [x.parts[path_label_idx] for x in data_paths]\n",
    "    \n",
    "    return (data_paths, labels)"
   ]
  },
  {
   "cell_type": "code",
   "execution_count": 4,
   "metadata": {},
   "outputs": [],
   "source": [
    "X,y = load_data('./tiny-imagenet-200/train')"
   ]
  },
  {
   "cell_type": "code",
   "execution_count": 5,
   "metadata": {},
   "outputs": [
    {
     "data": {
      "text/html": [
       "<div>\n",
       "<style scoped>\n",
       "    .dataframe tbody tr th:only-of-type {\n",
       "        vertical-align: middle;\n",
       "    }\n",
       "\n",
       "    .dataframe tbody tr th {\n",
       "        vertical-align: top;\n",
       "    }\n",
       "\n",
       "    .dataframe thead th {\n",
       "        text-align: right;\n",
       "    }\n",
       "</style>\n",
       "<table border=\"1\" class=\"dataframe\">\n",
       "  <thead>\n",
       "    <tr style=\"text-align: right;\">\n",
       "      <th></th>\n",
       "      <th>X</th>\n",
       "      <th>y</th>\n",
       "    </tr>\n",
       "  </thead>\n",
       "  <tbody>\n",
       "    <tr>\n",
       "      <th>0</th>\n",
       "      <td>tiny-imagenet-200/train/n04067472/images/n0406...</td>\n",
       "      <td>n04067472</td>\n",
       "    </tr>\n",
       "    <tr>\n",
       "      <th>1</th>\n",
       "      <td>tiny-imagenet-200/train/n04067472/images/n0406...</td>\n",
       "      <td>n04067472</td>\n",
       "    </tr>\n",
       "    <tr>\n",
       "      <th>2</th>\n",
       "      <td>tiny-imagenet-200/train/n04067472/images/n0406...</td>\n",
       "      <td>n04067472</td>\n",
       "    </tr>\n",
       "    <tr>\n",
       "      <th>3</th>\n",
       "      <td>tiny-imagenet-200/train/n04067472/images/n0406...</td>\n",
       "      <td>n04067472</td>\n",
       "    </tr>\n",
       "    <tr>\n",
       "      <th>4</th>\n",
       "      <td>tiny-imagenet-200/train/n04067472/images/n0406...</td>\n",
       "      <td>n04067472</td>\n",
       "    </tr>\n",
       "    <tr>\n",
       "      <th>...</th>\n",
       "      <td>...</td>\n",
       "      <td>...</td>\n",
       "    </tr>\n",
       "    <tr>\n",
       "      <th>99995</th>\n",
       "      <td>tiny-imagenet-200/train/n02056570/images/n0205...</td>\n",
       "      <td>n02056570</td>\n",
       "    </tr>\n",
       "    <tr>\n",
       "      <th>99996</th>\n",
       "      <td>tiny-imagenet-200/train/n02056570/images/n0205...</td>\n",
       "      <td>n02056570</td>\n",
       "    </tr>\n",
       "    <tr>\n",
       "      <th>99997</th>\n",
       "      <td>tiny-imagenet-200/train/n02056570/images/n0205...</td>\n",
       "      <td>n02056570</td>\n",
       "    </tr>\n",
       "    <tr>\n",
       "      <th>99998</th>\n",
       "      <td>tiny-imagenet-200/train/n02056570/images/n0205...</td>\n",
       "      <td>n02056570</td>\n",
       "    </tr>\n",
       "    <tr>\n",
       "      <th>99999</th>\n",
       "      <td>tiny-imagenet-200/train/n02056570/images/n0205...</td>\n",
       "      <td>n02056570</td>\n",
       "    </tr>\n",
       "  </tbody>\n",
       "</table>\n",
       "<p>100000 rows × 2 columns</p>\n",
       "</div>"
      ],
      "text/plain": [
       "                                                       X          y\n",
       "0      tiny-imagenet-200/train/n04067472/images/n0406...  n04067472\n",
       "1      tiny-imagenet-200/train/n04067472/images/n0406...  n04067472\n",
       "2      tiny-imagenet-200/train/n04067472/images/n0406...  n04067472\n",
       "3      tiny-imagenet-200/train/n04067472/images/n0406...  n04067472\n",
       "4      tiny-imagenet-200/train/n04067472/images/n0406...  n04067472\n",
       "...                                                  ...        ...\n",
       "99995  tiny-imagenet-200/train/n02056570/images/n0205...  n02056570\n",
       "99996  tiny-imagenet-200/train/n02056570/images/n0205...  n02056570\n",
       "99997  tiny-imagenet-200/train/n02056570/images/n0205...  n02056570\n",
       "99998  tiny-imagenet-200/train/n02056570/images/n0205...  n02056570\n",
       "99999  tiny-imagenet-200/train/n02056570/images/n0205...  n02056570\n",
       "\n",
       "[100000 rows x 2 columns]"
      ]
     },
     "execution_count": 5,
     "metadata": {},
     "output_type": "execute_result"
    }
   ],
   "source": [
    "input_df = pd.DataFrame({'X': X, 'y': y})\n",
    "input_df"
   ]
  },
  {
   "cell_type": "code",
   "execution_count": 6,
   "metadata": {},
   "outputs": [
    {
     "data": {
      "text/plain": [
       "<matplotlib.axes._subplots.AxesSubplot at 0x7f9459fafad0>"
      ]
     },
     "execution_count": 6,
     "metadata": {},
     "output_type": "execute_result"
    },
    {
     "data": {
      "image/png": "[encoded data removed]",
      "text/plain": [
       "<Figure size 432x288 with 1 Axes>"
      ]
     },
     "metadata": {
      "needs_background": "light"
     },
     "output_type": "display_data"
    }
   ],
   "source": [
    "# Plot a histogram of our sample to class distribution\n",
    "input_df.groupby('y').count().plot(kind='bar')"
   ]
  },
  {
   "cell_type": "code",
   "execution_count": 7,
   "metadata": {},
   "outputs": [],
   "source": [
    "# Split training and test data\n",
    "X_train, X_test, y_train, y_test = train_test_split(X, y, test_size=0.3)"
   ]
  },
  {
   "cell_type": "code",
   "execution_count": 8,
   "metadata": {},
   "outputs": [
    {
     "name": "stdout",
     "output_type": "stream",
     "text": [
      "Imbalancing categories: ['n01882714', 'n04562935']\n"
     ]
    }
   ],
   "source": [
    "# Calculate bounds for throwing data away\n",
    "PCT_CAT_TO_IMBALANCE = 0.01\n",
    "LOWER_BOUND_IMBALANCE = 0.30\n",
    "UPPER_BOUND_IMBALANCE = 0.60\n",
    "\n",
    "unique_labels = list(set(y_train))\n",
    "num_cats_to_imbalance = int(len(unique_labels) * PCT_CAT_TO_IMBALANCE)\n",
    "np.random.shuffle(unique_labels)\n",
    "imbalance_categories = unique_labels[:num_cats_to_imbalance]\n",
    "\n",
    "print(\"Imbalancing categories: {}\".format(imbalance_categories))"
   ]
  },
  {
   "cell_type": "code",
   "execution_count": 9,
   "metadata": {},
   "outputs": [
    {
     "name": "stdout",
     "output_type": "stream",
     "text": [
      "Imbalancing n01882714 with percent: 0.5460941268401921\n",
      "Imbalancing n04562935 with percent: 0.4880741265889713\n"
     ]
    }
   ],
   "source": [
    "# Throw away random samples\n",
    "X_train_imbal = None\n",
    "y_train_imbal = None\n",
    "for cat in imbalance_categories:\n",
    "    imbalance_pct = np.random.uniform(LOWER_BOUND_IMBALANCE, UPPER_BOUND_IMBALANCE)\n",
    "\n",
    "    print(\"Imbalancing {} with percent: {}\".format(cat, imbalance_pct))\n",
    "    \n",
    "    indices = [x for x in range(len(y_train)) if y_train[x] == cat]\n",
    "    np.random.shuffle(indices)\n",
    "    num_to_discard = int(len(indices) * imbalance_pct)\n",
    "    indices = indices[:num_to_discard]\n",
    "\n",
    "    X_train_imbal = [X_train[x] for x in range(len(X_train)) if x not in indices]\n",
    "    y_train_imbal = [y_train[x] for x in range(len(y_train)) if x not in indices]"
   ]
  },
  {
   "cell_type": "code",
   "execution_count": 10,
   "metadata": {},
   "outputs": [
    {
     "data": {
      "text/html": [
       "<div>\n",
       "<style scoped>\n",
       "    .dataframe tbody tr th:only-of-type {\n",
       "        vertical-align: middle;\n",
       "    }\n",
       "\n",
       "    .dataframe tbody tr th {\n",
       "        vertical-align: top;\n",
       "    }\n",
       "\n",
       "    .dataframe thead th {\n",
       "        text-align: right;\n",
       "    }\n",
       "</style>\n",
       "<table border=\"1\" class=\"dataframe\">\n",
       "  <thead>\n",
       "    <tr style=\"text-align: right;\">\n",
       "      <th></th>\n",
       "      <th>X</th>\n",
       "      <th>y</th>\n",
       "    </tr>\n",
       "  </thead>\n",
       "  <tbody>\n",
       "    <tr>\n",
       "      <th>0</th>\n",
       "      <td>tiny-imagenet-200/train/n02769748/images/n0276...</td>\n",
       "      <td>n02769748</td>\n",
       "    </tr>\n",
       "    <tr>\n",
       "      <th>1</th>\n",
       "      <td>tiny-imagenet-200/train/n02927161/images/n0292...</td>\n",
       "      <td>n02927161</td>\n",
       "    </tr>\n",
       "    <tr>\n",
       "      <th>2</th>\n",
       "      <td>tiny-imagenet-200/train/n07695742/images/n0769...</td>\n",
       "      <td>n07695742</td>\n",
       "    </tr>\n",
       "    <tr>\n",
       "      <th>3</th>\n",
       "      <td>tiny-imagenet-200/train/n03026506/images/n0302...</td>\n",
       "      <td>n03026506</td>\n",
       "    </tr>\n",
       "    <tr>\n",
       "      <th>4</th>\n",
       "      <td>tiny-imagenet-200/train/n02814533/images/n0281...</td>\n",
       "      <td>n02814533</td>\n",
       "    </tr>\n",
       "    <tr>\n",
       "      <th>...</th>\n",
       "      <td>...</td>\n",
       "      <td>...</td>\n",
       "    </tr>\n",
       "    <tr>\n",
       "      <th>69818</th>\n",
       "      <td>tiny-imagenet-200/train/n04540053/images/n0454...</td>\n",
       "      <td>n04540053</td>\n",
       "    </tr>\n",
       "    <tr>\n",
       "      <th>69819</th>\n",
       "      <td>tiny-imagenet-200/train/n02843684/images/n0284...</td>\n",
       "      <td>n02843684</td>\n",
       "    </tr>\n",
       "    <tr>\n",
       "      <th>69820</th>\n",
       "      <td>tiny-imagenet-200/train/n09193705/images/n0919...</td>\n",
       "      <td>n09193705</td>\n",
       "    </tr>\n",
       "    <tr>\n",
       "      <th>69821</th>\n",
       "      <td>tiny-imagenet-200/train/n02423022/images/n0242...</td>\n",
       "      <td>n02423022</td>\n",
       "    </tr>\n",
       "    <tr>\n",
       "      <th>69822</th>\n",
       "      <td>tiny-imagenet-200/train/n01984695/images/n0198...</td>\n",
       "      <td>n01984695</td>\n",
       "    </tr>\n",
       "  </tbody>\n",
       "</table>\n",
       "<p>69823 rows × 2 columns</p>\n",
       "</div>"
      ],
      "text/plain": [
       "                                                       X          y\n",
       "0      tiny-imagenet-200/train/n02769748/images/n0276...  n02769748\n",
       "1      tiny-imagenet-200/train/n02927161/images/n0292...  n02927161\n",
       "2      tiny-imagenet-200/train/n07695742/images/n0769...  n07695742\n",
       "3      tiny-imagenet-200/train/n03026506/images/n0302...  n03026506\n",
       "4      tiny-imagenet-200/train/n02814533/images/n0281...  n02814533\n",
       "...                                                  ...        ...\n",
       "69818  tiny-imagenet-200/train/n04540053/images/n0454...  n04540053\n",
       "69819  tiny-imagenet-200/train/n02843684/images/n0284...  n02843684\n",
       "69820  tiny-imagenet-200/train/n09193705/images/n0919...  n09193705\n",
       "69821  tiny-imagenet-200/train/n02423022/images/n0242...  n02423022\n",
       "69822  tiny-imagenet-200/train/n01984695/images/n0198...  n01984695\n",
       "\n",
       "[69823 rows x 2 columns]"
      ]
     },
     "execution_count": 10,
     "metadata": {},
     "output_type": "execute_result"
    }
   ],
   "source": [
    "imbalanced_df = pd.DataFrame({'X': X_train_imbal, 'y': y_train_imbal})\n",
    "imbalanced_df"
   ]
  },
  {
   "cell_type": "code",
   "execution_count": 11,
   "metadata": {},
   "outputs": [
    {
     "data": {
      "text/plain": [
       "<matplotlib.axes._subplots.AxesSubplot at 0x7f94597e1cd0>"
      ]
     },
     "execution_count": 11,
     "metadata": {},
     "output_type": "execute_result"
    },
    {
     "data": {
      "image/png": "[encoded data removed]",
      "text/plain": [
       "<Figure size 432x288 with 1 Axes>"
      ]
     },
     "metadata": {
      "needs_background": "light"
     },
     "output_type": "display_data"
    }
   ],
   "source": [
    "imbalanced_df.groupby('y').count().plot(kind='bar')"
   ]
  },
  {
   "cell_type": "code",
   "execution_count": 12,
   "metadata": {},
   "outputs": [],
   "source": [
    "# Output expected test and train file:\n",
    "def write_metadata(filename, X, y):\n",
    "    assert(len(X) == len(y))\n",
    "    with open(filename, 'w') as f:\n",
    "        for i in range(len(X)):\n",
    "            f.write('{}\\t{}\\n'.format(X[i], y[i]))"
   ]
  },
  {
   "cell_type": "code",
   "execution_count": 13,
   "metadata": {},
   "outputs": [],
   "source": [
    "write_metadata('./metadata_output/test_metadata.txt', X_test, y_test)"
   ]
  },
  {
   "cell_type": "code",
   "execution_count": 14,
   "metadata": {},
   "outputs": [],
   "source": [
    "write_metadata('./metadata_output/train_metadata.txt', X_train, y_train)"
   ]
  },
  {
   "cell_type": "code",
   "execution_count": 15,
   "metadata": {},
   "outputs": [],
   "source": [
    "# Quick sanity check to make sure things weren't oddly manipulated (i.e. incorrect manipulation of label to data)\n",
    "for i in range(len(X_train)):\n",
    "    assert(str(y_train[i]) in str(X_train[i]))\n",
    "for i in range(len(X_test)):\n",
    "    assert(str(y_test[i]) in str(X_test[i]))"
   ]
  },
  {
   "cell_type": "code",
   "execution_count": null,
   "metadata": {},
   "outputs": [],
   "source": []
  }
 ],
 "metadata": {
  "kernelspec": {
   "display_name": "conda-TF-GPU",
   "language": "python",
   "name": "conda-tf-gpu"
  },
  "language_info": {
   "codemirror_mode": {
    "name": "ipython",
    "version": 3
   },
   "file_extension": ".py",
   "mimetype": "text/x-python",
   "name": "python",
   "nbconvert_exporter": "python",
   "pygments_lexer": "ipython3",
   "version": "3.7.6"
  }
 },
 "nbformat": 4,
 "nbformat_minor": 2
}
