{
 "cells": [
  {
   "cell_type": "markdown",
   "metadata": {},
   "source": [
    "# Imbalancing and Splitting Dataset\n",
    "We will split and imbalance our dataset. We split the data into test and training sets and also ensure imbalance across categories. This will help us focus on where to augment our data.\n",
    "\n",
    "### A note on directory structure\n",
    "We assume our data is structed by labels. For instance, a directory should contain `LABEL/data{1..n}.gif`."
   ]
  },
  {
   "cell_type": "code",
   "execution_count": 1,
   "metadata": {},
   "outputs": [],
   "source": [
    "from functools import reduce\n",
    "from matplotlib import pyplot as plt\n",
    "import numpy as np\n",
    "import pandas as pd\n",
    "from pathlib import Path\n",
    "\n",
    "from sklearn.model_selection import train_test_split"
   ]
  },
  {
   "cell_type": "code",
   "execution_count": 2,
   "metadata": {},
   "outputs": [],
   "source": [
    "# Enable reproducible results\n",
    "np.random.seed(123)"
   ]
  },
  {
   "cell_type": "code",
   "execution_count": 3,
   "metadata": {},
   "outputs": [],
   "source": [
    "def load_data(root_dir, label_load_percent=1.0, glob_pattern='./**/*.JPEG', path_label_idx=2):\n",
    "    path = Path(root_dir)\n",
    "    labeled_dirs = [x.glob(glob_pattern) for x in path.iterdir() if x.is_dir()]\n",
    "    \n",
    "    # Shuffle our labeled paths\n",
    "    np.random.shuffle(labeled_dirs)\n",
    "    \n",
    "    # Take only the specified percentage\n",
    "    last = int(len(labeled_dirs) * label_load_percent)\n",
    "    labeled_dirs = labeled_dirs[:last]\n",
    "    \n",
    "    # Load all data paths\n",
    "    data_paths = reduce(list.__add__, [[y for y in x if y.is_file()] for x in labeled_dirs])\n",
    "    \n",
    "    labels = [x.parts[path_label_idx] for x in data_paths]\n",
    "    \n",
    "    return (data_paths, labels)"
   ]
  },
  {
   "cell_type": "code",
   "execution_count": 4,
   "metadata": {},
   "outputs": [],
   "source": [
    "X,y = load_data('./tiny-imagenet-200/train')"
   ]
  },
  {
   "cell_type": "code",
   "execution_count": 5,
   "metadata": {},
   "outputs": [
    {
     "data": {
      "text/html": [
       "<div>\n",
       "<style scoped>\n",
       "    .dataframe tbody tr th:only-of-type {\n",
       "        vertical-align: middle;\n",
       "    }\n",
       "\n",
       "    .dataframe tbody tr th {\n",
       "        vertical-align: top;\n",
       "    }\n",
       "\n",
       "    .dataframe thead th {\n",
       "        text-align: right;\n",
       "    }\n",
       "</style>\n",
       "<table border=\"1\" class=\"dataframe\">\n",
       "  <thead>\n",
       "    <tr style=\"text-align: right;\">\n",
       "      <th></th>\n",
       "      <th>X</th>\n",
       "      <th>y</th>\n",
       "    </tr>\n",
       "  </thead>\n",
       "  <tbody>\n",
       "    <tr>\n",
       "      <th>0</th>\n",
       "      <td>tiny-imagenet-200/train/n04067472/images/n0406...</td>\n",
       "      <td>n04067472</td>\n",
       "    </tr>\n",
       "    <tr>\n",
       "      <th>1</th>\n",
       "      <td>tiny-imagenet-200/train/n04067472/images/n0406...</td>\n",
       "      <td>n04067472</td>\n",
       "    </tr>\n",
       "    <tr>\n",
       "      <th>2</th>\n",
       "      <td>tiny-imagenet-200/train/n04067472/images/n0406...</td>\n",
       "      <td>n04067472</td>\n",
       "    </tr>\n",
       "    <tr>\n",
       "      <th>3</th>\n",
       "      <td>tiny-imagenet-200/train/n04067472/images/n0406...</td>\n",
       "      <td>n04067472</td>\n",
       "    </tr>\n",
       "    <tr>\n",
       "      <th>4</th>\n",
       "      <td>tiny-imagenet-200/train/n04067472/images/n0406...</td>\n",
       "      <td>n04067472</td>\n",
       "    </tr>\n",
       "    <tr>\n",
       "      <th>...</th>\n",
       "      <td>...</td>\n",
       "      <td>...</td>\n",
       "    </tr>\n",
       "    <tr>\n",
       "      <th>99995</th>\n",
       "      <td>tiny-imagenet-200/train/n02056570/images/n0205...</td>\n",
       "      <td>n02056570</td>\n",
       "    </tr>\n",
       "    <tr>\n",
       "      <th>99996</th>\n",
       "      <td>tiny-imagenet-200/train/n02056570/images/n0205...</td>\n",
       "      <td>n02056570</td>\n",
       "    </tr>\n",
       "    <tr>\n",
       "      <th>99997</th>\n",
       "      <td>tiny-imagenet-200/train/n02056570/images/n0205...</td>\n",
       "      <td>n02056570</td>\n",
       "    </tr>\n",
       "    <tr>\n",
       "      <th>99998</th>\n",
       "      <td>tiny-imagenet-200/train/n02056570/images/n0205...</td>\n",
       "      <td>n02056570</td>\n",
       "    </tr>\n",
       "    <tr>\n",
       "      <th>99999</th>\n",
       "      <td>tiny-imagenet-200/train/n02056570/images/n0205...</td>\n",
       "      <td>n02056570</td>\n",
       "    </tr>\n",
       "  </tbody>\n",
       "</table>\n",
       "<p>100000 rows × 2 columns</p>\n",
       "</div>"
      ],
      "text/plain": [
       "                                                       X          y\n",
       "0      tiny-imagenet-200/train/n04067472/images/n0406...  n04067472\n",
       "1      tiny-imagenet-200/train/n04067472/images/n0406...  n04067472\n",
       "2      tiny-imagenet-200/train/n04067472/images/n0406...  n04067472\n",
       "3      tiny-imagenet-200/train/n04067472/images/n0406...  n04067472\n",
       "4      tiny-imagenet-200/train/n04067472/images/n0406...  n04067472\n",
       "...                                                  ...        ...\n",
       "99995  tiny-imagenet-200/train/n02056570/images/n0205...  n02056570\n",
       "99996  tiny-imagenet-200/train/n02056570/images/n0205...  n02056570\n",
       "99997  tiny-imagenet-200/train/n02056570/images/n0205...  n02056570\n",
       "99998  tiny-imagenet-200/train/n02056570/images/n0205...  n02056570\n",
       "99999  tiny-imagenet-200/train/n02056570/images/n0205...  n02056570\n",
       "\n",
       "[100000 rows x 2 columns]"
      ]
     },
     "execution_count": 5,
     "metadata": {},
     "output_type": "execute_result"
    }
   ],
   "source": [
    "input_df = pd.DataFrame({'X': X, 'y': y})\n",
    "input_df"
   ]
  },
  {
   "cell_type": "code",
   "execution_count": 6,
   "metadata": {},
   "outputs": [
    {
     "data": {
      "text/plain": [
       "<matplotlib.axes._subplots.AxesSubplot at 0x7fb299eb25d0>"
      ]
     },
     "execution_count": 6,
     "metadata": {},
     "output_type": "execute_result"
    },
    {
     "data": {
      "image/png": "[encoded data removed]",
      "text/plain": [
       "<Figure size 432x288 with 1 Axes>"
      ]
     },
     "metadata": {
      "needs_background": "light"
     },
     "output_type": "display_data"
    }
   ],
   "source": [
    "# Plot a histogram of our sample to class distribution\n",
    "input_df.groupby('y').count().plot(kind='bar')"
   ]
  },
  {
   "cell_type": "code",
   "execution_count": 7,
   "metadata": {},
   "outputs": [],
   "source": [
    "# Split training and test data\n",
    "X_train, X_test, y_train, y_test = train_test_split(X, y, test_size=0.3)"
   ]
  },
  {
   "cell_type": "code",
   "execution_count": 9,
   "metadata": {},
   "outputs": [
    {
     "name": "stdout",
     "output_type": "stream",
     "text": [
      "Imbalancing categories: ['n01882714', 'n04562935']\n"
     ]
    }
   ],
   "source": [
    "# Calculate bounds for throwing data away\n",
    "PCT_CAT_TO_IMBALANCE = 0.01\n",
    "LOWER_BOUND_IMBALANCE = 0.30\n",
    "UPPER_BOUND_IMBALANCE = 0.60\n",
    "\n",
    "unique_labels = list(set(y_train))\n",
    "num_cats_to_imbalance = int(len(unique_labels) * PCT_CAT_TO_IMBALANCE)\n",
    "np.random.shuffle(unique_labels)\n",
    "\n",
    "imbalance_categories = ['n01882714', 'n04562935']\n",
    "# NOTE: For reproducibility, hardcoding the results. For further experiments, uncomment this line\n",
    "# imbalance_categories = unique_labels[:num_cats_to_imbalance]\n",
    "\n",
    "print(\"Imbalancing categories: {}\".format(imbalance_categories))"
   ]
  },
  {
   "cell_type": "code",
   "execution_count": 11,
   "metadata": {},
   "outputs": [
    {
     "name": "stdout",
     "output_type": "stream",
     "text": [
      "Imbalancing n01882714 with percent: 0.4647883334345964\n",
      "Kept 164 samples for category n01882714\n",
      "Imbalancing n04562935 with percent: 0.4695671943782228\n",
      "Kept 170 samples for category n04562935\n"
     ]
    }
   ],
   "source": [
    "# Throw away random samples\n",
    "X_train_imbal = []\n",
    "y_train_imbal = []\n",
    "for cat in imbalance_categories:\n",
    "    imbalance_pct = np.random.uniform(LOWER_BOUND_IMBALANCE, UPPER_BOUND_IMBALANCE)\n",
    "\n",
    "    print(\"Imbalancing {} with percent: {}\".format(cat, imbalance_pct))\n",
    "    \n",
    "    indices = [x for x in range(len(y_train)) if y_train[x] == cat]\n",
    "    np.random.shuffle(indices)\n",
    "    num_to_discard = int(len(indices) * imbalance_pct)\n",
    "    indices = indices[:num_to_discard]\n",
    "    \n",
    "    print(\"Kept {} samples for category {}\".format(len(indices), cat))\n",
    "\n",
    "    X_train_imbal.extend([X_train[x] for x in indices])\n",
    "    y_train_imbal.extend([y_train[x] for x in indices])\n",
    "    "
   ]
  },
  {
   "cell_type": "code",
   "execution_count": 12,
   "metadata": {},
   "outputs": [
    {
     "data": {
      "text/html": [
       "<div>\n",
       "<style scoped>\n",
       "    .dataframe tbody tr th:only-of-type {\n",
       "        vertical-align: middle;\n",
       "    }\n",
       "\n",
       "    .dataframe tbody tr th {\n",
       "        vertical-align: top;\n",
       "    }\n",
       "\n",
       "    .dataframe thead th {\n",
       "        text-align: right;\n",
       "    }\n",
       "</style>\n",
       "<table border=\"1\" class=\"dataframe\">\n",
       "  <thead>\n",
       "    <tr style=\"text-align: right;\">\n",
       "      <th></th>\n",
       "      <th>X</th>\n",
       "      <th>y</th>\n",
       "    </tr>\n",
       "  </thead>\n",
       "  <tbody>\n",
       "    <tr>\n",
       "      <th>0</th>\n",
       "      <td>tiny-imagenet-200/train/n01882714/images/n0188...</td>\n",
       "      <td>n01882714</td>\n",
       "    </tr>\n",
       "    <tr>\n",
       "      <th>1</th>\n",
       "      <td>tiny-imagenet-200/train/n01882714/images/n0188...</td>\n",
       "      <td>n01882714</td>\n",
       "    </tr>\n",
       "    <tr>\n",
       "      <th>2</th>\n",
       "      <td>tiny-imagenet-200/train/n01882714/images/n0188...</td>\n",
       "      <td>n01882714</td>\n",
       "    </tr>\n",
       "    <tr>\n",
       "      <th>3</th>\n",
       "      <td>tiny-imagenet-200/train/n01882714/images/n0188...</td>\n",
       "      <td>n01882714</td>\n",
       "    </tr>\n",
       "    <tr>\n",
       "      <th>4</th>\n",
       "      <td>tiny-imagenet-200/train/n01882714/images/n0188...</td>\n",
       "      <td>n01882714</td>\n",
       "    </tr>\n",
       "    <tr>\n",
       "      <th>...</th>\n",
       "      <td>...</td>\n",
       "      <td>...</td>\n",
       "    </tr>\n",
       "    <tr>\n",
       "      <th>329</th>\n",
       "      <td>tiny-imagenet-200/train/n04562935/images/n0456...</td>\n",
       "      <td>n04562935</td>\n",
       "    </tr>\n",
       "    <tr>\n",
       "      <th>330</th>\n",
       "      <td>tiny-imagenet-200/train/n04562935/images/n0456...</td>\n",
       "      <td>n04562935</td>\n",
       "    </tr>\n",
       "    <tr>\n",
       "      <th>331</th>\n",
       "      <td>tiny-imagenet-200/train/n04562935/images/n0456...</td>\n",
       "      <td>n04562935</td>\n",
       "    </tr>\n",
       "    <tr>\n",
       "      <th>332</th>\n",
       "      <td>tiny-imagenet-200/train/n04562935/images/n0456...</td>\n",
       "      <td>n04562935</td>\n",
       "    </tr>\n",
       "    <tr>\n",
       "      <th>333</th>\n",
       "      <td>tiny-imagenet-200/train/n04562935/images/n0456...</td>\n",
       "      <td>n04562935</td>\n",
       "    </tr>\n",
       "  </tbody>\n",
       "</table>\n",
       "<p>334 rows × 2 columns</p>\n",
       "</div>"
      ],
      "text/plain": [
       "                                                     X          y\n",
       "0    tiny-imagenet-200/train/n01882714/images/n0188...  n01882714\n",
       "1    tiny-imagenet-200/train/n01882714/images/n0188...  n01882714\n",
       "2    tiny-imagenet-200/train/n01882714/images/n0188...  n01882714\n",
       "3    tiny-imagenet-200/train/n01882714/images/n0188...  n01882714\n",
       "4    tiny-imagenet-200/train/n01882714/images/n0188...  n01882714\n",
       "..                                                 ...        ...\n",
       "329  tiny-imagenet-200/train/n04562935/images/n0456...  n04562935\n",
       "330  tiny-imagenet-200/train/n04562935/images/n0456...  n04562935\n",
       "331  tiny-imagenet-200/train/n04562935/images/n0456...  n04562935\n",
       "332  tiny-imagenet-200/train/n04562935/images/n0456...  n04562935\n",
       "333  tiny-imagenet-200/train/n04562935/images/n0456...  n04562935\n",
       "\n",
       "[334 rows x 2 columns]"
      ]
     },
     "execution_count": 12,
     "metadata": {},
     "output_type": "execute_result"
    }
   ],
   "source": [
    "imbalanced_df = pd.DataFrame({'X': X_train_imbal, 'y': y_train_imbal})\n",
    "imbalanced_df"
   ]
  },
  {
   "cell_type": "code",
   "execution_count": 13,
   "metadata": {},
   "outputs": [
    {
     "data": {
      "text/plain": [
       "<matplotlib.axes._subplots.AxesSubplot at 0x7fb2993487d0>"
      ]
     },
     "execution_count": 13,
     "metadata": {},
     "output_type": "execute_result"
    },
    {
     "data": {
      "image/png": "[encoded data removed]",
      "text/plain": [
       "<Figure size 432x288 with 1 Axes>"
      ]
     },
     "metadata": {
      "needs_background": "light"
     },
     "output_type": "display_data"
    }
   ],
   "source": [
    "imbalanced_df.groupby('y').count().plot(kind='bar')"
   ]
  },
  {
   "cell_type": "code",
   "execution_count": 19,
   "metadata": {},
   "outputs": [
    {
     "name": "stdout",
     "output_type": "stream",
     "text": [
      "69617\n",
      "69617\n"
     ]
    }
   ],
   "source": [
    "# Combine data into a single set\n",
    "# NOTE: We do not do this for the holdout (i.e. test) set. Only our training set is imbalanced.\n",
    "X_train_updated = [X_train[i] for i in range(len(y_train)) if y_train[i] not in imbalance_categories]\n",
    "X_train_updated.extend(X_train_imbal)\n",
    "y_train_updated = [y_train[i] for i in range(len(y_train)) if y_train[i] not in imbalance_categories]\n",
    "y_train_updated.extend(y_train_imbal)\n",
    "print(len(X_train_updated))\n",
    "print(len(y_train_updated))"
   ]
  },
  {
   "cell_type": "code",
   "execution_count": 20,
   "metadata": {},
   "outputs": [],
   "source": [
    "# Output expected test and train file:\n",
    "def write_metadata(filename, X, y):\n",
    "    assert(len(X) == len(y))\n",
    "    with open(filename, 'w') as f:\n",
    "        for i in range(len(X)):\n",
    "            f.write('{}\\t{}\\n'.format(X[i], y[i]))"
   ]
  },
  {
   "cell_type": "code",
   "execution_count": 21,
   "metadata": {},
   "outputs": [],
   "source": [
    "write_metadata('./metadata_output/test_metadata.txt', X_test, y_test)"
   ]
  },
  {
   "cell_type": "code",
   "execution_count": 24,
   "metadata": {},
   "outputs": [],
   "source": [
    "write_metadata('./metadata_output/train_metadata.txt', X_train_updated, y_train_updated)"
   ]
  },
  {
   "cell_type": "code",
   "execution_count": 25,
   "metadata": {},
   "outputs": [],
   "source": [
    "# Quick sanity check to make sure things weren't oddly manipulated (i.e. incorrect manipulation of label to data)\n",
    "# We know the label is in the path.\n",
    "for i in range(len(X_train)):\n",
    "    assert(str(y_train[i]) in str(X_train[i]))\n",
    "for i in range(len(X_test)):\n",
    "    assert(str(y_test[i]) in str(X_test[i]))"
   ]
  },
  {
   "cell_type": "code",
   "execution_count": null,
   "metadata": {},
   "outputs": [],
   "source": []
  }
 ],
 "metadata": {
  "kernelspec": {
   "display_name": "conda-TF-GPU",
   "language": "python",
   "name": "conda-tf-gpu"
  },
  "language_info": {
   "codemirror_mode": {
    "name": "ipython",
    "version": 3
   },
   "file_extension": ".py",
   "mimetype": "text/x-python",
   "name": "python",
   "nbconvert_exporter": "python",
   "pygments_lexer": "ipython3",
   "version": "3.7.7"
  }
 },
 "nbformat": 4,
 "nbformat_minor": 2
}
