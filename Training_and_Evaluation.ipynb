{
 "cells": [
  {
   "cell_type": "markdown",
   "metadata": {},
   "source": [
    "# Training and Evaluation\n",
    "\n",
    "We will take a first-pass at evaluating or technique to start understanding its efficacy. We will existing CNN architectures and evaluate its performance on our interested categories with and without using our interested categories."
   ]
  },
  {
   "cell_type": "code",
   "execution_count": 1,
   "metadata": {},
   "outputs": [
    {
     "name": "stdout",
     "output_type": "stream",
     "text": [
      "TensorFlow Version:  2.1.0\n"
     ]
    }
   ],
   "source": [
    "import cv2\n",
    "import datetime\n",
    "from matplotlib import pyplot as plt\n",
    "import numpy as np\n",
    "import os\n",
    "import sys\n",
    "import tensorflow as tf\n",
    "import tensorflow_addons as tfa\n",
    "print('TensorFlow Version: ', tf.__version__)\n",
    "\n",
    "from sklearn.preprocessing import OneHotEncoder\n",
    "from sklearn.model_selection import train_test_split\n",
    "\n",
    "np.random.seed(123)"
   ]
  },
  {
   "cell_type": "code",
   "execution_count": 2,
   "metadata": {},
   "outputs": [],
   "source": [
    "# Set hyperparameters for training & validation\n",
    "INPUT_SHAPE = (64, 64, 3)\n",
    "BATCH_SIZE = 64\n",
    "VALIDATION_SPLIT = 0.10\n",
    "TRAIN_STEPS_PER_EPOCH = 5000\n",
    "TEST_STEPS = 500\n",
    "NUM_EPOCHS = 5\n",
    "# Currently reduced\n",
    "NUM_LABELS=22"
   ]
  },
  {
   "cell_type": "code",
   "execution_count": 3,
   "metadata": {},
   "outputs": [],
   "source": [
    "# Define utilities and helper functions\n",
    "# NOTE: Copied from clustering NB\n",
    "def load_metadata(filename):\n",
    "    with open(filename, 'r') as f:\n",
    "        return [x.strip().split('\\t') for x in f.readlines()]\n",
    "    \n",
    "@tf.function\n",
    "def decode_img(image):\n",
    "    img = tf.image.decode_jpeg(image, channels=3)\n",
    "    img = tf.image.convert_image_dtype(img, tf.float32)\n",
    "    return tf.image.resize(img, [64, 64])\n",
    "\n",
    "@tf.function\n",
    "def load_image_data(path, label):\n",
    "    img_data = tf.io.read_file(path)\n",
    "    img = decode_img(img_data)\n",
    "    return img, label\n",
    "    \n",
    "def load_labels(metadata):\n",
    "    labels = np.array([x[1] for x in metadata])\n",
    "    distinct_labels = np.array([[x] for x in set(labels)])\n",
    "    encoder = OneHotEncoder(sparse=False)\n",
    "    encoder.fit(distinct_labels)\n",
    "    y_train = encoder.transform([[x] for x in labels])\n",
    "    return (y_train, encoder)\n",
    "\n",
    "# Load labels with an existing encoder\n",
    "def load_labels_with_encoder(metadata, encoder):\n",
    "    return encoder.transform([[x[1]] for x in metadata])"
   ]
  },
  {
   "cell_type": "code",
   "execution_count": 4,
   "metadata": {},
   "outputs": [],
   "source": [
    "# Create functions for three models: (i) custom, simple CNN, (ii) MobileNet + FCs, and (iii) VGG16 + FCs\n",
    "def get_simplecnn(input_shape=INPUT_SHAPE):\n",
    "    return tf.keras.Sequential([\n",
    "        tf.keras.layers.Conv2D(512, (3, 3), (1, 1), input_shape=input_shape, activation='relu'),\n",
    "        tf.keras.layers.MaxPooling2D((2, 2)),\n",
    "        tf.keras.layers.Conv2D(512, (2, 2), (1, 1), activation='relu'),\n",
    "        tf.keras.layers.MaxPooling2D((2, 2)),\n",
    "        tf.keras.layers.Conv2D(256, (2, 2), (1, 1), activation='relu'),\n",
    "        tf.keras.layers.MaxPooling2D((2, 2)),\n",
    "        tf.keras.layers.Conv2D(256, (2, 2), (1, 1), activation='relu'),\n",
    "        tf.keras.layers.MaxPooling2D((2, 2)),\n",
    "        tf.keras.layers.Flatten(),\n",
    "        tf.keras.layers.Dropout(0.2),\n",
    "        tf.keras.layers.Dense(512, activation='relu'),\n",
    "        tf.keras.layers.Dropout(0.2),\n",
    "        tf.keras.layers.Dense(NUM_LABELS, activation='softmax'),\n",
    "    ])\n",
    "\n",
    "def get_mobilenet(input_shape=INPUT_SHAPE):\n",
    "    application = tf.keras.applications.MobileNet(input_shape=input_shape, include_top=False)\n",
    "    for i in range(len(application.layers)):\n",
    "        application.layers[i].trainable = False\n",
    "        \n",
    "    return tf.keras.Sequential([\n",
    "        application,\n",
    "        tf.keras.layers.GlobalAveragePooling2D(),\n",
    "        tf.keras.layers.Dropout(0.2),\n",
    "        tf.keras.layers.Dense(128, activation='relu'),\n",
    "        tf.keras.layers.Dropout(0.2),\n",
    "        tf.keras.layers.Dense(128, activation='relu'),\n",
    "        tf.keras.layers.Dropout(0.2),\n",
    "        tf.keras.layers.Dense(NUM_LABELS, activation='softmax')\n",
    "    ])\n",
    "\n",
    "def get_vgg16(input_shape=INPUT_SHAPE):\n",
    "    application = tf.keras.applications.VGG16(input_shape=input_shape, include_top=False)\n",
    "    for i in range(len(application.layers)):\n",
    "        application.layers[i].trainable = False\n",
    "        \n",
    "    return tf.keras.Sequential([\n",
    "        application,\n",
    "        tf.keras.layers.Flatten(),\n",
    "        tf.keras.layers.Dense(1024, activation='relu'),\n",
    "        tf.keras.layers.Dropout(0.2),\n",
    "        tf.keras.layers.Dense(NUM_LABELS, activation='softmax')\n",
    "    ])"
   ]
  },
  {
   "cell_type": "code",
   "execution_count": 5,
   "metadata": {},
   "outputs": [],
   "source": [
    "# simplecnn = get_simplecnn()\n",
    "# simplecnn.summary()"
   ]
  },
  {
   "cell_type": "code",
   "execution_count": 6,
   "metadata": {},
   "outputs": [
    {
     "name": "stderr",
     "output_type": "stream",
     "text": [
      "/home/dennis/miniconda3/envs/tf-gpu/lib/python3.7/site-packages/keras_applications/mobilenet.py:207: UserWarning: `input_shape` is undefined or non-square, or `rows` is not in [128, 160, 192, 224]. Weights for input shape (224, 224) will be loaded as the default.\n",
      "  warnings.warn('`input_shape` is undefined or non-square, '\n"
     ]
    },
    {
     "name": "stdout",
     "output_type": "stream",
     "text": [
      "Model: \"sequential\"\n",
      "_________________________________________________________________\n",
      "Layer (type)                 Output Shape              Param #   \n",
      "=================================================================\n",
      "mobilenet_1.00_224 (Model)   (None, 2, 2, 1024)        3228864   \n",
      "_________________________________________________________________\n",
      "global_average_pooling2d (Gl (None, 1024)              0         \n",
      "_________________________________________________________________\n",
      "dropout (Dropout)            (None, 1024)              0         \n",
      "_________________________________________________________________\n",
      "dense (Dense)                (None, 128)               131200    \n",
      "_________________________________________________________________\n",
      "dropout_1 (Dropout)          (None, 128)               0         \n",
      "_________________________________________________________________\n",
      "dense_1 (Dense)              (None, 128)               16512     \n",
      "_________________________________________________________________\n",
      "dropout_2 (Dropout)          (None, 128)               0         \n",
      "_________________________________________________________________\n",
      "dense_2 (Dense)              (None, 22)                2838      \n",
      "=================================================================\n",
      "Total params: 3,379,414\n",
      "Trainable params: 150,550\n",
      "Non-trainable params: 3,228,864\n",
      "_________________________________________________________________\n"
     ]
    }
   ],
   "source": [
    "mobilenet = get_mobilenet()\n",
    "mobilenet.summary()"
   ]
  },
  {
   "cell_type": "code",
   "execution_count": 17,
   "metadata": {},
   "outputs": [],
   "source": [
    "# vgg16 = get_vgg16()\n",
    "# vgg16.summary()"
   ]
  },
  {
   "cell_type": "code",
   "execution_count": 18,
   "metadata": {},
   "outputs": [
    {
     "name": "stdout",
     "output_type": "stream",
     "text": [
      "Loading data into memory...\n",
      "Done.\n"
     ]
    }
   ],
   "source": [
    "# TODO: Remove hardcoding\n",
    "print('Loading data into memory...')\n",
    "train_metadata = load_metadata('./metadata_output/filtered_train_metadata.txt')\n",
    "(y_train, encoder) = load_labels(train_metadata)\n",
    "\n",
    "# Interested indices for test data filtering\n",
    "interested_categories = ['n01882714', 'n04562935']\n",
    "interested_one_hot = encoder.transform([[x] for x in interested_categories])\n",
    "interested_indices = np.array([x[1] for x in np.argwhere(interested_one_hot == 1)])\n",
    "print('Done.')"
   ]
  },
  {
   "cell_type": "code",
   "execution_count": 19,
   "metadata": {},
   "outputs": [],
   "source": [
    "# Encoding sanity checks;\n",
    "# assert(len(train_metadata) == len(y_train))\n",
    "# assert(len(set(y_train)) == 200)\n",
    "assert(np.count_nonzero(y_train == 1) == len(train_metadata))\n",
    "# print(y_train)"
   ]
  },
  {
   "cell_type": "code",
   "execution_count": 20,
   "metadata": {},
   "outputs": [],
   "source": [
    "def join_paths_and_labels(train_metadata, y_train):\n",
    "    return [(train_metadata[x][0], y_train[x]) for x in range(len(y_train))]\n",
    "\n",
    "# TODO: This is sort of weird/dangerous.. we shouldn't be using a global for this\n",
    "# since it changes per training run\n",
    "num_validation = 0\n",
    "def shuffle_and_split_data(train_metadata, y_train):\n",
    "    global num_validation\n",
    "    # Get all data\n",
    "    paths_and_labels = join_paths_and_labels(train_metadata, y_train)\n",
    "    print('Num. Total Images: ', len(paths_and_labels))\n",
    "\n",
    "    # Split data into train and validation sets\n",
    "    np.random.shuffle(paths_and_labels)\n",
    "    num_validation = int(len(paths_and_labels) * VALIDATION_SPLIT)\n",
    "    train_paths_and_labels = paths_and_labels[num_validation:]\n",
    "    validation_paths_and_labels = paths_and_labels[:num_validation]\n",
    "    print('Num. Train Images: ', len(train_paths_and_labels))\n",
    "    print('Num. Validation Images: ', len(validation_paths_and_labels))\n",
    "    \n",
    "    return (train_paths_and_labels, validation_paths_and_labels)"
   ]
  },
  {
   "cell_type": "markdown",
   "metadata": {},
   "source": [
    "## (1) BASELINE MODEL: VGG16"
   ]
  },
  {
   "cell_type": "code",
   "execution_count": 21,
   "metadata": {},
   "outputs": [
    {
     "name": "stdout",
     "output_type": "stream",
     "text": [
      "Num. Total Images:  7409\n",
      "Num. Train Images:  6669\n",
      "Num. Validation Images:  740\n"
     ]
    }
   ],
   "source": [
    "(train_paths_and_labels, validation_paths_and_labels) = shuffle_and_split_data(train_metadata, y_train)\n",
    "\n",
    "# Convert training set into a TF dataset via generator\n",
    "train_dataset = tf.data.Dataset.from_generator(\n",
    "    lambda: train_paths_and_labels,\n",
    "    (tf.string, tf.int32),\n",
    "    (tf.TensorShape([]), tf.TensorShape([len(y_train[0])]))\n",
    ")\n",
    "train_dataset = train_dataset.map(lambda x,y: load_image_data(x, y), \n",
    "                                  num_parallel_calls=tf.data.experimental.AUTOTUNE)\n",
    "\n",
    "train_dataset = train_dataset.cache()\n",
    "train_dataset = train_dataset.repeat()\n",
    "train_dataset = train_dataset.batch(BATCH_SIZE)\n",
    "train_dataset = train_dataset.prefetch(buffer_size=tf.data.experimental.AUTOTUNE)\n",
    "\n",
    "# Convert validation set into a TF dataset via generator\n",
    "validation_dataset = tf.data.Dataset.from_generator(\n",
    "    lambda: validation_paths_and_labels,\n",
    "    (tf.string, tf.int32),\n",
    "    (tf.TensorShape([]), tf.TensorShape([len(y_train[0])]))\n",
    ")\n",
    "validation_dataset = validation_dataset.map(lambda x,y: load_image_data(x, y), \n",
    "                                            num_parallel_calls=tf.data.experimental.AUTOTUNE)\n",
    "\n",
    "validation_dataset = validation_dataset.cache()\n",
    "validation_dataset = validation_dataset.repeat()\n",
    "validation_dataset = validation_dataset.batch(1)\n",
    "validation_dataset = validation_dataset.prefetch(buffer_size=tf.data.experimental.AUTOTUNE)"
   ]
  },
  {
   "cell_type": "code",
   "execution_count": 22,
   "metadata": {},
   "outputs": [],
   "source": [
    "def train_model(model, train_dataset, validation_dataset, name):    \n",
    "    # Compile model                                                                                                      \n",
    "    model.compile(optimizer=tf.keras.optimizers.Adam(lr=4e-4),                                                           \n",
    "                  loss=tf.keras.losses.CategoricalCrossentropy(from_logits=True),                                  \n",
    "                  metrics=['accuracy'])      \n",
    "    \n",
    "    # Stop early if we're not making good progress                                                                           \n",
    "    early_stop_monitor = tf.keras.callbacks.EarlyStopping(monitor='val_loss',                                                                                              \n",
    "                                                          restore_best_weights=True,                                                                                       \n",
    "                                                          patience=10)   \n",
    "\n",
    "    # Prepare for checkpoints            \n",
    "    checkpoint_path = './checkpoints/' + name + '/cp-{epoch:04d}.ckpt'                                   \n",
    "    cp_callback = tf.keras.callbacks.ModelCheckpoint(filepath=checkpoint_path,                                                                                    \n",
    "                                                     verbose=1,                                                                                                   \n",
    "                                                     save_weights_only=True,                                                                                     \n",
    "                                                     save_freq=2500000)\n",
    "\n",
    "    # Tensorboard                                                                                                        \n",
    "    log_dir=\"logs/fit/\" + datetime.datetime.now().strftime(\"%Y%m%d-%H%M%S\")                                              \n",
    "    tensorboard_callback = tf.keras.callbacks.TensorBoard(log_dir=log_dir, histogram_freq=1)\n",
    "    \n",
    "    history = model.fit(x=train_dataset,\n",
    "                        epochs=NUM_EPOCHS,                                                                                                  \n",
    "                        steps_per_epoch=TRAIN_STEPS_PER_EPOCH,\n",
    "                        callbacks=[tensorboard_callback, cp_callback, early_stop_monitor],\n",
    "                        use_multiprocessing=True,\n",
    "                        validation_steps=num_validation,\n",
    "                        validation_data=validation_dataset,\n",
    "                        shuffle=True)\n",
    "\n",
    "    return history"
   ]
  },
  {
   "cell_type": "code",
   "execution_count": 13,
   "metadata": {},
   "outputs": [
    {
     "name": "stdout",
     "output_type": "stream",
     "text": [
      "Train for 5000 steps, validate for 740 steps\n",
      "Epoch 1/5\n",
      "5000/5000 [==============================] - 116s 23ms/step - loss: 2.5203 - accuracy: 0.6537 - val_loss: 2.6127 - val_accuracy: 0.5595\n",
      "Epoch 2/5\n",
      "5000/5000 [==============================] - 108s 22ms/step - loss: 2.3699 - accuracy: 0.8009 - val_loss: 2.5979 - val_accuracy: 0.5743\n",
      "Epoch 3/5\n",
      "5000/5000 [==============================] - 108s 22ms/step - loss: 2.3371 - accuracy: 0.8320 - val_loss: 2.6098 - val_accuracy: 0.5635\n",
      "Epoch 4/5\n",
      "5000/5000 [==============================] - 107s 21ms/step - loss: 2.3140 - accuracy: 0.8544 - val_loss: 2.5998 - val_accuracy: 0.5797\n",
      "Epoch 5/5\n",
      "5000/5000 [==============================] - 108s 22ms/step - loss: 2.2675 - accuracy: 0.9011 - val_loss: 2.5862 - val_accuracy: 0.5824\n"
     ]
    },
    {
     "data": {
      "text/plain": [
       "<tensorflow.python.keras.callbacks.History at 0x7fccb41ddd50>"
      ]
     },
     "execution_count": 13,
     "metadata": {},
     "output_type": "execute_result"
    }
   ],
   "source": [
    "# Train and save model\n",
    "train_model(mobilenet, train_dataset, validation_dataset, 'mobilenet_imbalanced')"
   ]
  },
  {
   "cell_type": "code",
   "execution_count": 14,
   "metadata": {},
   "outputs": [
    {
     "name": "stdout",
     "output_type": "stream",
     "text": [
      "WARNING:tensorflow:From /home/dennis/miniconda3/envs/tf-gpu/lib/python3.7/site-packages/tensorflow_core/python/ops/resource_variable_ops.py:1786: calling BaseResourceVariable.__init__ (from tensorflow.python.ops.resource_variable_ops) with constraint is deprecated and will be removed in a future version.\n",
      "Instructions for updating:\n",
      "If using Keras pass *_constraint arguments to layers.\n",
      "INFO:tensorflow:Assets written to: models/mobilenet_imbalanced/assets\n",
      "model saved\n"
     ]
    }
   ],
   "source": [
    "if not os.path.exists(os.path.join('models', 'mobilenet_imbalanced')):\n",
    "    os.makedirs(os.path.join('models', 'mobilenet_imbalanced'))\n",
    "    \n",
    "mobilenet.save(os.path.join('models', 'mobilenet_imbalanced'))\n",
    "print('model saved')"
   ]
  },
  {
   "cell_type": "markdown",
   "metadata": {},
   "source": [
    "## (2) MOBILENET + STANDARD AUGMENTATIONS"
   ]
  },
  {
   "cell_type": "code",
   "execution_count": 15,
   "metadata": {},
   "outputs": [
    {
     "name": "stderr",
     "output_type": "stream",
     "text": [
      "/home/dennis/miniconda3/envs/tf-gpu/lib/python3.7/site-packages/keras_applications/mobilenet.py:207: UserWarning: `input_shape` is undefined or non-square, or `rows` is not in [128, 160, 192, 224]. Weights for input shape (224, 224) will be loaded as the default.\n",
      "  warnings.warn('`input_shape` is undefined or non-square, '\n"
     ]
    }
   ],
   "source": [
    "mobilenet_std_aug = get_mobilenet()"
   ]
  },
  {
   "cell_type": "code",
   "execution_count": 16,
   "metadata": {},
   "outputs": [],
   "source": [
    "# TODO: We have to somehow incorporate the below with tf.Datasets\n",
    "# train_datagen = tf.keras.preprocessing.image.ImageDataGenerator(\n",
    "#     rotation_range=45,\n",
    "#     width_shift_range=0.4,\n",
    "#     height_shift_range=0.4,\n",
    "#     zoom_range=[0.4, 1.6],\n",
    "#     horizontal_flip=True,\n",
    "#     brightness_range=(0.6, 1.4),\n",
    "#     fill_mode='nearest',\n",
    "# )\n",
    "\n",
    "# NOTE: Apply a map function to perform transformations rather than using ImageDataGen\n",
    "@tf.function\n",
    "def std_augment_image(img_tensor, label):\n",
    "    transformed = img_tensor\n",
    "    # Random rotation\n",
    "#     if tf.random.uniform([]) <= 0.8:\n",
    "#         angle = tf.random.uniform([]) * 45.0\n",
    "#         transformed = tfa.image.rotate(transformed, angle)\n",
    "    # Random zoom (5%)\n",
    "    if tf.random.uniform([]) <= 0.05:\n",
    "        crop_size = tf.random.uniform([], minval=0.4, maxval=0.8) * 64.0\n",
    "        transformed = tf.image.resize(tf.image.random_crop(transformed, [crop_size, crop_size, 3]), [64, 64])\n",
    "    # Random brightness adjustment\n",
    "    if tf.random.uniform([]) <= 0.5:\n",
    "        transformed = tf.image.random_brightness(transformed, 0.6)\n",
    "    # Random horizontal flip\n",
    "    transformed = tf.image.random_flip_up_down(transformed)\n",
    "    return (transformed, label)"
   ]
  },
  {
   "cell_type": "code",
   "execution_count": 17,
   "metadata": {},
   "outputs": [],
   "source": [
    "# Redfine train dataset\n",
    "# Convert training set into a TF dataset via generator\n",
    "train_dataset_std_aug = tf.data.Dataset.from_generator(\n",
    "    lambda: train_paths_and_labels,\n",
    "    (tf.string, tf.int32),\n",
    "    (tf.TensorShape([]), tf.TensorShape([len(y_train[0])]))\n",
    ")\n",
    "train_dataset_std_aug = train_dataset_std_aug.map(lambda x,y: load_image_data(x, y), \n",
    "                                                  num_parallel_calls=tf.data.experimental.AUTOTUNE)\n",
    "\n",
    "train_dataset_std_aug = train_dataset_std_aug.cache()\n",
    "train_dataset_std_aug = train_dataset_std_aug.map(std_augment_image,\n",
    "                                                  num_parallel_calls=tf.data.experimental.AUTOTUNE)\n",
    "train_dataset_std_aug = train_dataset_std_aug.repeat()\n",
    "train_dataset_std_aug = train_dataset_std_aug.batch(BATCH_SIZE)\n",
    "train_dataset_std_aug = train_dataset_std_aug.prefetch(buffer_size=tf.data.experimental.AUTOTUNE)"
   ]
  },
  {
   "cell_type": "code",
   "execution_count": 18,
   "metadata": {},
   "outputs": [
    {
     "name": "stdout",
     "output_type": "stream",
     "text": [
      "Train for 5000 steps, validate for 740 steps\n",
      "Epoch 1/5\n",
      "5000/5000 [==============================] - 111s 22ms/step - loss: 2.6718 - accuracy: 0.4976 - val_loss: 2.6551 - val_accuracy: 0.5203\n",
      "Epoch 2/5\n",
      "5000/5000 [==============================] - 110s 22ms/step - loss: 2.5661 - accuracy: 0.6019 - val_loss: 2.6081 - val_accuracy: 0.5608\n",
      "Epoch 3/5\n",
      "5000/5000 [==============================] - 109s 22ms/step - loss: 2.5086 - accuracy: 0.6594 - val_loss: 2.5955 - val_accuracy: 0.5811\n",
      "Epoch 4/5\n",
      "5000/5000 [==============================] - 108s 22ms/step - loss: 2.4528 - accuracy: 0.7155 - val_loss: 2.5749 - val_accuracy: 0.5973\n",
      "Epoch 5/5\n",
      "5000/5000 [==============================] - 108s 22ms/step - loss: 2.4289 - accuracy: 0.7388 - val_loss: 2.5678 - val_accuracy: 0.6027\n"
     ]
    },
    {
     "data": {
      "text/plain": [
       "<tensorflow.python.keras.callbacks.History at 0x7fcc45b58350>"
      ]
     },
     "execution_count": 18,
     "metadata": {},
     "output_type": "execute_result"
    }
   ],
   "source": [
    "# Train and save model\n",
    "train_model(mobilenet_std_aug, train_dataset_std_aug, validation_dataset, 'mobilenet_imbalanced_std_aug')"
   ]
  },
  {
   "cell_type": "code",
   "execution_count": 19,
   "metadata": {},
   "outputs": [
    {
     "name": "stdout",
     "output_type": "stream",
     "text": [
      "INFO:tensorflow:Assets written to: models/mobilenet_imbalanced_std_aug/assets\n",
      "model saved\n"
     ]
    }
   ],
   "source": [
    "if not os.path.exists(os.path.join('models', 'mobilenet_imbalanced_std_aug')):\n",
    "    os.makedirs(os.path.join('models', 'mobilenet_imbalanced_std_aug'))\n",
    "    \n",
    "mobilenet_std_aug.save(os.path.join('models', 'mobilenet_imbalanced_std_aug'))\n",
    "print('model saved')"
   ]
  },
  {
   "cell_type": "markdown",
   "metadata": {},
   "source": [
    "## (3) MOBILENET + BAGAN"
   ]
  },
  {
   "cell_type": "code",
   "execution_count": 15,
   "metadata": {},
   "outputs": [
    {
     "name": "stderr",
     "output_type": "stream",
     "text": [
      "/home/dennis/miniconda3/envs/tf-gpu/lib/python3.7/site-packages/keras_applications/mobilenet.py:207: UserWarning: `input_shape` is undefined or non-square, or `rows` is not in [128, 160, 192, 224]. Weights for input shape (224, 224) will be loaded as the default.\n",
      "  warnings.warn('`input_shape` is undefined or non-square, '\n"
     ]
    }
   ],
   "source": [
    "# New model for bagan augmentation\n",
    "mobilenet_bagan_aug = get_mobilenet()"
   ]
  },
  {
   "cell_type": "code",
   "execution_count": 12,
   "metadata": {},
   "outputs": [
    {
     "name": "stdout",
     "output_type": "stream",
     "text": [
      "Num. Total Images:  7709\n",
      "Num. Train Images:  6939\n",
      "Num. Validation Images:  770\n"
     ]
    }
   ],
   "source": [
    "bagan_train_metadata = load_metadata('./metadata_output/bagan_train_metadata.txt')\n",
    "combined_bagan_train_metadata = []\n",
    "combined_bagan_train_metadata.extend(train_metadata)\n",
    "combined_bagan_train_metadata.extend(bagan_train_metadata)\n",
    "\n",
    "y_train_bagan = load_labels_with_encoder(combined_bagan_train_metadata, encoder)\n",
    "(bagan_train_paths_and_labels, bagan_validation_paths_and_labels) = shuffle_and_split_data(combined_bagan_train_metadata, y_train_bagan)"
   ]
  },
  {
   "cell_type": "code",
   "execution_count": 14,
   "metadata": {},
   "outputs": [],
   "source": [
    "# Redfine train dataset to include BAGAN samples\n",
    "# Convert training set into a TF dataset via generator\n",
    "train_dataset_bagan_aug = tf.data.Dataset.from_generator(\n",
    "    lambda: bagan_train_paths_and_labels,\n",
    "    (tf.string, tf.int32),\n",
    "    (tf.TensorShape([]), tf.TensorShape([len(y_train_bagan[0])]))\n",
    ")\n",
    "train_dataset_bagan_aug = train_dataset_bagan_aug.map(lambda x,y: load_image_data(x, y), \n",
    "                                                      num_parallel_calls=tf.data.experimental.AUTOTUNE)\n",
    "\n",
    "train_dataset_bagan_aug = train_dataset_bagan_aug.cache()\n",
    "train_dataset_bagan_aug = train_dataset_bagan_aug.repeat()\n",
    "train_dataset_bagan_aug = train_dataset_bagan_aug.batch(BATCH_SIZE)\n",
    "train_dataset_bagan_aug = train_dataset_bagan_aug.prefetch(buffer_size=tf.data.experimental.AUTOTUNE)\n",
    "\n",
    "# Convert validation set into a TF dataset via generator\n",
    "bagan_validation_dataset = tf.data.Dataset.from_generator(\n",
    "    lambda: bagan_validation_paths_and_labels,\n",
    "    (tf.string, tf.int32),\n",
    "    (tf.TensorShape([]), tf.TensorShape([len(y_train_bagan[0])]))\n",
    ")\n",
    "bagan_validation_dataset = bagan_validation_dataset.map(lambda x,y: load_image_data(x, y), \n",
    "                                                        num_parallel_calls=tf.data.experimental.AUTOTUNE)\n",
    "\n",
    "bagan_validation_dataset = bagan_validation_dataset.cache()\n",
    "bagan_validation_dataset = bagan_validation_dataset.repeat()\n",
    "bagan_validation_dataset = bagan_validation_dataset.batch(1)\n",
    "bagan_validation_dataset = bagan_validation_dataset.prefetch(buffer_size=tf.data.experimental.AUTOTUNE)"
   ]
  },
  {
   "cell_type": "code",
   "execution_count": 23,
   "metadata": {},
   "outputs": [
    {
     "name": "stdout",
     "output_type": "stream",
     "text": [
      "Train for 5000 steps, validate for 740 steps\n",
      "Epoch 1/5\n",
      "   1/5000 [..............................] - ETA: 4:06:28 - loss: 3.1022 - accuracy: 0.0469WARNING:tensorflow:Method (on_train_batch_end) is slow compared to the batch update (0.112721). Check your callbacks.\n",
      "5000/5000 [==============================] - 116s 23ms/step - loss: 2.5346 - accuracy: 0.6387 - val_loss: 2.5818 - val_accuracy: 0.5905\n",
      "Epoch 2/5\n",
      "5000/5000 [==============================] - 112s 22ms/step - loss: 2.3560 - accuracy: 0.8156 - val_loss: 2.5426 - val_accuracy: 0.6311\n",
      "Epoch 3/5\n",
      "5000/5000 [==============================] - 113s 23ms/step - loss: 2.3056 - accuracy: 0.8641 - val_loss: 2.5548 - val_accuracy: 0.6122\n",
      "Epoch 4/5\n",
      "5000/5000 [==============================] - 113s 23ms/step - loss: 2.2888 - accuracy: 0.8798 - val_loss: 2.5505 - val_accuracy: 0.6216\n",
      "Epoch 5/5\n",
      "5000/5000 [==============================] - 112s 22ms/step - loss: 2.2791 - accuracy: 0.8891 - val_loss: 2.5538 - val_accuracy: 0.6176\n"
     ]
    },
    {
     "data": {
      "text/plain": [
       "<tensorflow.python.keras.callbacks.History at 0x7fdc18503290>"
      ]
     },
     "execution_count": 23,
     "metadata": {},
     "output_type": "execute_result"
    }
   ],
   "source": [
    "# Train and save model\n",
    "train_model(mobilenet_bagan_aug, train_dataset_bagan_aug, bagan_validation_dataset, 'mobilenet_imbalanced_bagan_aug')"
   ]
  },
  {
   "cell_type": "code",
   "execution_count": 24,
   "metadata": {},
   "outputs": [
    {
     "name": "stdout",
     "output_type": "stream",
     "text": [
      "WARNING:tensorflow:From /home/dennis/miniconda3/envs/tf-gpu/lib/python3.7/site-packages/tensorflow_core/python/ops/resource_variable_ops.py:1786: calling BaseResourceVariable.__init__ (from tensorflow.python.ops.resource_variable_ops) with constraint is deprecated and will be removed in a future version.\n",
      "Instructions for updating:\n",
      "If using Keras pass *_constraint arguments to layers.\n",
      "INFO:tensorflow:Assets written to: models/mobilenet_imbalanced_bagan_aug/assets\n",
      "model saved\n"
     ]
    }
   ],
   "source": [
    "if not os.path.exists(os.path.join('models', 'mobilenet_imbalanced_bagan_aug')):\n",
    "    os.makedirs(os.path.join('models', 'mobilenet_imbalanced_bagan_aug'))\n",
    "    \n",
    "mobilenet_bagan_aug.save(os.path.join('models', 'mobilenet_imbalanced_bagan_aug'))\n",
    "print('model saved')"
   ]
  },
  {
   "cell_type": "markdown",
   "metadata": {},
   "source": [
    "## (4) MOBILENET + SINGAN"
   ]
  },
  {
   "cell_type": "code",
   "execution_count": 20,
   "metadata": {},
   "outputs": [
    {
     "name": "stderr",
     "output_type": "stream",
     "text": [
      "/home/dennis/miniconda3/envs/tf-gpu/lib/python3.7/site-packages/keras_applications/mobilenet.py:207: UserWarning: `input_shape` is undefined or non-square, or `rows` is not in [128, 160, 192, 224]. Weights for input shape (224, 224) will be loaded as the default.\n",
      "  warnings.warn('`input_shape` is undefined or non-square, '\n"
     ]
    }
   ],
   "source": [
    "# New model for singan augmentation\n",
    "mobilenet_singan_aug = get_mobilenet()"
   ]
  },
  {
   "cell_type": "code",
   "execution_count": 21,
   "metadata": {},
   "outputs": [
    {
     "name": "stdout",
     "output_type": "stream",
     "text": [
      "Num. Total Images:  7909\n",
      "Num. Train Images:  7119\n",
      "Num. Validation Images:  790\n"
     ]
    }
   ],
   "source": [
    "singan_train_metadata = load_metadata('./metadata_output/singan_train_metadata.txt')\n",
    "combined_train_metadata = []\n",
    "combined_train_metadata.extend(train_metadata)\n",
    "combined_train_metadata.extend(singan_train_metadata)\n",
    "\n",
    "y_train_singan = load_labels_with_encoder(combined_train_metadata, encoder)\n",
    "(singan_train_paths_and_labels, singan_validation_paths_and_labels) = shuffle_and_split_data(combined_train_metadata, y_train_singan)"
   ]
  },
  {
   "cell_type": "code",
   "execution_count": 22,
   "metadata": {},
   "outputs": [],
   "source": [
    "# Redfine train dataset to include SinGAN samples\n",
    "# Convert training set into a TF dataset via generator\n",
    "train_dataset_singan_aug = tf.data.Dataset.from_generator(\n",
    "    lambda: singan_train_paths_and_labels,\n",
    "    (tf.string, tf.int32),\n",
    "    (tf.TensorShape([]), tf.TensorShape([len(y_train_singan[0])]))\n",
    ")\n",
    "train_dataset_singan_aug = train_dataset_singan_aug.map(lambda x,y: load_image_data(x, y), \n",
    "                                                        num_parallel_calls=tf.data.experimental.AUTOTUNE)\n",
    "\n",
    "train_dataset_singan_aug = train_dataset_singan_aug.cache()\n",
    "train_dataset_singan_aug = train_dataset_singan_aug.repeat()\n",
    "train_dataset_singan_aug = train_dataset_singan_aug.batch(BATCH_SIZE)\n",
    "train_dataset_singan_aug = train_dataset_singan_aug.prefetch(buffer_size=tf.data.experimental.AUTOTUNE)\n",
    "\n",
    "# Convert validation set into a TF dataset via generator\n",
    "singan_validation_dataset = tf.data.Dataset.from_generator(\n",
    "    lambda: singan_validation_paths_and_labels,\n",
    "    (tf.string, tf.int32),\n",
    "    (tf.TensorShape([]), tf.TensorShape([len(y_train_singan[0])]))\n",
    ")\n",
    "singan_validation_dataset = singan_validation_dataset.map(lambda x,y: load_image_data(x, y), \n",
    "                                                          num_parallel_calls=tf.data.experimental.AUTOTUNE)\n",
    "\n",
    "singan_validation_dataset = singan_validation_dataset.cache()\n",
    "singan_validation_dataset = singan_validation_dataset.repeat()\n",
    "singan_validation_dataset = singan_validation_dataset.batch(1)\n",
    "singan_validation_dataset = singan_validation_dataset.prefetch(buffer_size=tf.data.experimental.AUTOTUNE)"
   ]
  },
  {
   "cell_type": "code",
   "execution_count": 23,
   "metadata": {},
   "outputs": [
    {
     "name": "stdout",
     "output_type": "stream",
     "text": [
      "Train for 5000 steps, validate for 790 steps\n",
      "Epoch 1/5\n",
      "5000/5000 [==============================] - 108s 22ms/step - loss: 2.5072 - accuracy: 0.6667 - val_loss: 2.5672 - val_accuracy: 0.6051\n",
      "Epoch 2/5\n",
      "5000/5000 [==============================] - 110s 22ms/step - loss: 2.3632 - accuracy: 0.8075 - val_loss: 2.5757 - val_accuracy: 0.5937\n",
      "Epoch 3/5\n",
      "5000/5000 [==============================] - 110s 22ms/step - loss: 2.3082 - accuracy: 0.8613 - val_loss: 2.5456 - val_accuracy: 0.6266\n",
      "Epoch 4/5\n",
      "5000/5000 [==============================] - 110s 22ms/step - loss: 2.2848 - accuracy: 0.8837 - val_loss: 2.5466 - val_accuracy: 0.6291\n",
      "Epoch 5/5\n",
      "5000/5000 [==============================] - 109s 22ms/step - loss: 2.2749 - accuracy: 0.8929 - val_loss: 2.5484 - val_accuracy: 0.6228\n"
     ]
    },
    {
     "data": {
      "text/plain": [
       "<tensorflow.python.keras.callbacks.History at 0x7fcc4cd486d0>"
      ]
     },
     "execution_count": 23,
     "metadata": {},
     "output_type": "execute_result"
    }
   ],
   "source": [
    "# Train and save model\n",
    "train_model(mobilenet_singan_aug, train_dataset_singan_aug, singan_validation_dataset, 'mobilenet_imbalanced_singan_aug')"
   ]
  },
  {
   "cell_type": "code",
   "execution_count": 24,
   "metadata": {},
   "outputs": [
    {
     "name": "stdout",
     "output_type": "stream",
     "text": [
      "INFO:tensorflow:Assets written to: models/mobilenet_imbalanced_singan_aug/assets\n",
      "model saved\n"
     ]
    }
   ],
   "source": [
    "if not os.path.exists(os.path.join('models', 'mobilenet_imbalanced_singan_aug')):\n",
    "    os.makedirs(os.path.join('models', 'mobilenet_imbalanced_singan_aug'))\n",
    "    \n",
    "mobilenet_singan_aug.save(os.path.join('models', 'mobilenet_imbalanced_singan_aug'))\n",
    "print('model saved')"
   ]
  },
  {
   "cell_type": "markdown",
   "metadata": {},
   "source": [
    "# Model Evaluation\n",
    "\n",
    "In this section, we will evaluate the models against the holdout data to compare performance."
   ]
  },
  {
   "cell_type": "markdown",
   "metadata": {},
   "source": [
    "## Load Models"
   ]
  },
  {
   "cell_type": "code",
   "execution_count": 28,
   "metadata": {},
   "outputs": [],
   "source": [
    "mobilenet_singan_eval = tf.keras.models.load_model('models/mobilenet_imbalanced_singan_aug')"
   ]
  },
  {
   "cell_type": "code",
   "execution_count": 29,
   "metadata": {},
   "outputs": [],
   "source": [
    "mobilenet_imbalanced_eval = tf.keras.models.load_model('models/mobilenet_imbalanced')"
   ]
  },
  {
   "cell_type": "code",
   "execution_count": 25,
   "metadata": {},
   "outputs": [],
   "source": [
    "mobilenet_bagan_eval = tf.keras.models.load_model('models/mobilenet_imbalanced_bagan_aug')"
   ]
  },
  {
   "cell_type": "code",
   "execution_count": 30,
   "metadata": {},
   "outputs": [],
   "source": [
    "mobilenet_imbalanced_std_aug_eval = tf.keras.models.load_model('models/mobilenet_imbalanced_std_aug')"
   ]
  },
  {
   "cell_type": "markdown",
   "metadata": {},
   "source": [
    "### Load Test Data"
   ]
  },
  {
   "cell_type": "code",
   "execution_count": 26,
   "metadata": {},
   "outputs": [],
   "source": [
    "holdout_metadata = load_metadata('./metadata_output/filtered_test_metadata.txt')\n",
    "y_train_holdout = load_labels_with_encoder(holdout_metadata, encoder)\n",
    "holdout_paths_and_labels = join_paths_and_labels(holdout_metadata, y_train_holdout)\n",
    "holdout_size = len(holdout_paths_and_labels)"
   ]
  },
  {
   "cell_type": "code",
   "execution_count": 27,
   "metadata": {},
   "outputs": [],
   "source": [
    "# Holdout dataset\n",
    "holdout_dataset = tf.data.Dataset.from_generator(\n",
    "    lambda: holdout_paths_and_labels,\n",
    "    (tf.string, tf.int32),\n",
    "    (tf.TensorShape([]), tf.TensorShape([len(y_train_holdout[0])]))\n",
    ")\n",
    "holdout_dataset = holdout_dataset.map(lambda x,y: load_image_data(x, y), \n",
    "                                      num_parallel_calls=tf.data.experimental.AUTOTUNE)\n",
    "\n",
    "holdout_dataset = holdout_dataset.cache()\n",
    "holdout_dataset = holdout_dataset.repeat()\n",
    "holdout_dataset = holdout_dataset.batch(BATCH_SIZE)\n",
    "holdout_dataset = holdout_dataset.prefetch(buffer_size=tf.data.experimental.AUTOTUNE)"
   ]
  },
  {
   "cell_type": "markdown",
   "metadata": {},
   "source": [
    "## Evaluate Models"
   ]
  },
  {
   "cell_type": "code",
   "execution_count": 28,
   "metadata": {},
   "outputs": [],
   "source": [
    "def evaluate_against_holdout(model, dataset=holdout_dataset, steps=holdout_size):\n",
    "    return model.evaluate(dataset, steps=steps, use_multiprocessing=True)"
   ]
  },
  {
   "cell_type": "code",
   "execution_count": 34,
   "metadata": {},
   "outputs": [
    {
     "name": "stdout",
     "output_type": "stream",
     "text": [
      "3208/3208 [==============================] - 57s 18ms/step - loss: 2.5632 - accuracy: 0.6035\n"
     ]
    },
    {
     "data": {
      "text/plain": [
       "[2.5631853636363497, 0.60349125]"
      ]
     },
     "execution_count": 34,
     "metadata": {},
     "output_type": "execute_result"
    }
   ],
   "source": [
    "# Baseline\n",
    "evaluate_against_holdout(mobilenet_imbalanced_eval)"
   ]
  },
  {
   "cell_type": "code",
   "execution_count": 35,
   "metadata": {},
   "outputs": [
    {
     "name": "stdout",
     "output_type": "stream",
     "text": [
      "3208/3208 [==============================] - 56s 18ms/step - loss: 2.5659 - accuracy: 0.6060\n"
     ]
    },
    {
     "data": {
      "text/plain": [
       "[2.565883205418575, 0.60598505]"
      ]
     },
     "execution_count": 35,
     "metadata": {},
     "output_type": "execute_result"
    }
   ],
   "source": [
    "# Simple Augmentation\n",
    "evaluate_against_holdout(mobilenet_imbalanced_std_aug_eval)"
   ]
  },
  {
   "cell_type": "code",
   "execution_count": 29,
   "metadata": {},
   "outputs": [
    {
     "name": "stdout",
     "output_type": "stream",
     "text": [
      "3208/3208 [==============================] - 58s 18ms/step - loss: 2.5414 - accuracy: 0.6272\n"
     ]
    },
    {
     "data": {
      "text/plain": [
       "[2.541402216861373, 0.62718207]"
      ]
     },
     "execution_count": 29,
     "metadata": {},
     "output_type": "execute_result"
    }
   ],
   "source": [
    "# BAGAN (Full)\n",
    "evaluate_against_holdout(mobilenet_bagan_eval)"
   ]
  },
  {
   "cell_type": "code",
   "execution_count": 36,
   "metadata": {},
   "outputs": [
    {
     "name": "stdout",
     "output_type": "stream",
     "text": [
      "3208/3208 [==============================] - 56s 18ms/step - loss: 2.5498 - accuracy: 0.6172\n"
     ]
    },
    {
     "data": {
      "text/plain": [
       "[2.549792982990902, 0.617207]"
      ]
     },
     "execution_count": 36,
     "metadata": {},
     "output_type": "execute_result"
    }
   ],
   "source": [
    "# SinGAN\n",
    "evaluate_against_holdout(mobilenet_singan_eval)"
   ]
  },
  {
   "cell_type": "code",
   "execution_count": 33,
   "metadata": {},
   "outputs": [
    {
     "name": "stdout",
     "output_type": "stream",
     "text": [
      "Total filtered samples: 283\n"
     ]
    }
   ],
   "source": [
    "# Filter only to interested categories\n",
    "filtered_holdout_paths_and_labels = [x for x in holdout_paths_and_labels if np.any(np.take(x[1], interested_indices))]\n",
    "num_filtered_holdout = len(filtered_holdout_paths_and_labels)\n",
    "print(\"Total filtered samples: {}\".format(num_filtered_holdout))"
   ]
  },
  {
   "cell_type": "code",
   "execution_count": 34,
   "metadata": {},
   "outputs": [],
   "source": [
    "# Filtered Holdout dataset\n",
    "holdout_interested_dataset = tf.data.Dataset.from_generator(\n",
    "    lambda: filtered_holdout_paths_and_labels,\n",
    "    (tf.string, tf.int32),\n",
    "    (tf.TensorShape([]), tf.TensorShape([len(y_train_holdout[0])]))\n",
    ")\n",
    "holdout_interested_dataset = holdout_interested_dataset.map(lambda x,y: load_image_data(x, y), \n",
    "                                                            num_parallel_calls=tf.data.experimental.AUTOTUNE)\n",
    "\n",
    "holdout_interested_dataset = holdout_interested_dataset.cache()\n",
    "holdout_interested_dataset = holdout_interested_dataset.repeat()\n",
    "holdout_interested_dataset = holdout_interested_dataset.batch(BATCH_SIZE)\n",
    "holdout_interested_dataset = holdout_interested_dataset.prefetch(buffer_size=tf.data.experimental.AUTOTUNE)"
   ]
  },
  {
   "cell_type": "code",
   "execution_count": 39,
   "metadata": {},
   "outputs": [
    {
     "name": "stdout",
     "output_type": "stream",
     "text": [
      "283/283 [==============================] - 5s 18ms/step - loss: 2.7871 - accuracy: 0.3746\n"
     ]
    },
    {
     "data": {
      "text/plain": [
       "[2.7871253692640434, 0.3745583]"
      ]
     },
     "execution_count": 39,
     "metadata": {},
     "output_type": "execute_result"
    }
   ],
   "source": [
    "# Baseline\n",
    "evaluate_against_holdout(mobilenet_imbalanced_eval, holdout_interested_dataset, num_filtered_holdout)"
   ]
  },
  {
   "cell_type": "code",
   "execution_count": 40,
   "metadata": {},
   "outputs": [
    {
     "name": "stdout",
     "output_type": "stream",
     "text": [
      "283/283 [==============================] - 5s 17ms/step - loss: 3.1604 - accuracy: 0.0000e+00\n"
     ]
    },
    {
     "data": {
      "text/plain": [
       "[3.160352815587613, 0.0]"
      ]
     },
     "execution_count": 40,
     "metadata": {},
     "output_type": "execute_result"
    }
   ],
   "source": [
    "# Simple Augmentation\n",
    "evaluate_against_holdout(mobilenet_imbalanced_std_aug_eval, holdout_interested_dataset, num_filtered_holdout)"
   ]
  },
  {
   "cell_type": "code",
   "execution_count": 35,
   "metadata": {},
   "outputs": [
    {
     "name": "stdout",
     "output_type": "stream",
     "text": [
      "283/283 [==============================] - 5s 18ms/step - loss: 2.4291 - accuracy: 0.7456\n"
     ]
    },
    {
     "data": {
      "text/plain": [
       "[2.4291493572531655, 0.74558306]"
      ]
     },
     "execution_count": 35,
     "metadata": {},
     "output_type": "execute_result"
    }
   ],
   "source": [
    "# BAGAN (Full)\n",
    "evaluate_against_holdout(mobilenet_bagan_eval, holdout_interested_dataset, num_filtered_holdout)"
   ]
  },
  {
   "cell_type": "code",
   "execution_count": 41,
   "metadata": {},
   "outputs": [
    {
     "name": "stdout",
     "output_type": "stream",
     "text": [
      "283/283 [==============================] - 5s 17ms/step - loss: 2.3724 - accuracy: 0.7951\n"
     ]
    },
    {
     "data": {
      "text/plain": [
       "[2.3723518064923503, 0.795053]"
      ]
     },
     "execution_count": 41,
     "metadata": {},
     "output_type": "execute_result"
    }
   ],
   "source": [
    "# SinGAN\n",
    "evaluate_against_holdout(mobilenet_singan_eval, holdout_interested_dataset, num_filtered_holdout)"
   ]
  },
  {
   "cell_type": "code",
   "execution_count": null,
   "metadata": {},
   "outputs": [],
   "source": []
  }
 ],
 "metadata": {
  "kernelspec": {
   "display_name": "conda-TF-GPU",
   "language": "python",
   "name": "conda-tf-gpu"
  },
  "language_info": {
   "codemirror_mode": {
    "name": "ipython",
    "version": 3
   },
   "file_extension": ".py",
   "mimetype": "text/x-python",
   "name": "python",
   "nbconvert_exporter": "python",
   "pygments_lexer": "ipython3",
   "version": "3.7.7"
  }
 },
 "nbformat": 4,
 "nbformat_minor": 2
}
