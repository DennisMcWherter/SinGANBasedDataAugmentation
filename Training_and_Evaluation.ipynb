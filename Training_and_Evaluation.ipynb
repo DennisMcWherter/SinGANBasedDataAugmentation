{
 "cells": [
  {
   "cell_type": "markdown",
   "metadata": {},
   "source": [
    "# Training and Evaluation\n",
    "\n",
    "We will take a first-pass at evaluating or technique to start understanding its efficacy. We will existing CNN architectures and evaluate its performance on our interested categories with and without using our interested categories."
   ]
  },
  {
   "cell_type": "code",
   "execution_count": 1,
   "metadata": {},
   "outputs": [
    {
     "name": "stdout",
     "output_type": "stream",
     "text": [
      "TensorFlow Version:  2.1.0\n"
     ]
    }
   ],
   "source": [
    "import cv2\n",
    "import datetime\n",
    "from matplotlib import pyplot as plt\n",
    "import numpy as np\n",
    "import sys\n",
    "import tensorflow as tf\n",
    "print('TensorFlow Version: ', tf.__version__)\n",
    "\n",
    "from sklearn.preprocessing import OneHotEncoder\n",
    "from sklearn.model_selection import train_test_split\n",
    "\n",
    "np.random.seed(123)"
   ]
  },
  {
   "cell_type": "code",
   "execution_count": 24,
   "metadata": {},
   "outputs": [],
   "source": [
    "# Set hyperparameters for training & validation\n",
    "INPUT_SHAPE = (64, 64, 3)\n",
    "BATCH_SIZE = 64\n",
    "VALIDATION_SPLIT = 0.10\n",
    "TRAIN_STEPS_PER_EPOCH = 1200\n",
    "TEST_STEPS = 500\n",
    "NUM_EPOCHS = 250"
   ]
  },
  {
   "cell_type": "code",
   "execution_count": 3,
   "metadata": {},
   "outputs": [],
   "source": [
    "# Define utilities and helper functions\n",
    "# NOTE: Copied from clustering NB\n",
    "def load_metadata(filename):\n",
    "    with open(filename, 'r') as f:\n",
    "        return [x.strip().split('\\t') for x in f.readlines()]\n",
    "    \n",
    "@tf.function\n",
    "def decode_img(image):\n",
    "    img = tf.image.decode_jpeg(image, channels=3)\n",
    "    img = tf.image.convert_image_dtype(img, tf.float32)\n",
    "    return tf.image.resize(img, [64, 64])\n",
    "\n",
    "@tf.function\n",
    "def load_image_data(path, label):\n",
    "    img_data = tf.io.read_file(path)\n",
    "    img = decode_img(img_data)\n",
    "    return img, label\n",
    "\n",
    "def load_labels(metadata):\n",
    "    labels = np.array([x[1] for x in metadata])\n",
    "    distinct_labels = np.array([[x] for x in set(labels)])\n",
    "    encoder = OneHotEncoder(sparse=False)\n",
    "    encoder.fit(distinct_labels)\n",
    "    y_train = encoder.transform([[x] for x in labels])\n",
    "    return (y_train, encoder)"
   ]
  },
  {
   "cell_type": "code",
   "execution_count": 35,
   "metadata": {},
   "outputs": [],
   "source": [
    "# Create functions for three models: (i) custom, simple CNN, (ii) MobileNet + FCs, and (iii) VGG16 + FCs\n",
    "def get_simplecnn(input_shape=INPUT_SHAPE):\n",
    "    return tf.keras.Sequential([\n",
    "        tf.keras.layers.Conv2D(512, (3, 3), (1, 1), input_shape=input_shape, activation='relu'),\n",
    "        tf.keras.layers.MaxPooling2D((2, 2)),\n",
    "        tf.keras.layers.Conv2D(512, (2, 2), (1, 1), activation='relu'),\n",
    "        tf.keras.layers.MaxPooling2D((2, 2)),\n",
    "        tf.keras.layers.Conv2D(256, (2, 2), (1, 1), activation='relu'),\n",
    "        tf.keras.layers.MaxPooling2D((2, 2)),\n",
    "        tf.keras.layers.Conv2D(256, (2, 2), (1, 1), activation='relu'),\n",
    "        tf.keras.layers.MaxPooling2D((2, 2)),\n",
    "        tf.keras.layers.Flatten(),\n",
    "        tf.keras.layers.Dropout(0.2),\n",
    "        tf.keras.layers.Dense(512, activation='relu'),\n",
    "        tf.keras.layers.Dropout(0.2),\n",
    "        tf.keras.layers.Dense(200, activation='softmax'),\n",
    "    ])\n",
    "\n",
    "def get_mobilenet(input_shape=INPUT_SHAPE):\n",
    "    application = tf.keras.applications.MobileNet(input_shape=input_shape, include_top=False)\n",
    "    for i in range(len(application.layers)):\n",
    "        application.layers[i].trainable = False\n",
    "        \n",
    "    return tf.keras.Sequential([\n",
    "        application,\n",
    "        tf.keras.layers.GlobalAveragePooling2D(),\n",
    "        tf.keras.layers.Dropout(0.2),\n",
    "        tf.keras.layers.Dense(200, activation='softmax')\n",
    "    ])\n",
    "\n",
    "def get_vgg16(input_shape=INPUT_SHAPE):\n",
    "    application = tf.keras.applications.VGG16(input_shape=input_shape, include_top=False)\n",
    "    for i in range(len(application.layers)):\n",
    "        application.layers[i].trainable = False\n",
    "        \n",
    "    return tf.keras.Sequential([\n",
    "        application,\n",
    "        tf.keras.layers.Flatten(),\n",
    "        tf.keras.layers.Dense(1024, activation='relu'),\n",
    "        tf.keras.layers.Dropout(0.2),\n",
    "        tf.keras.layers.Dense(200, activation='softmax')\n",
    "    ])"
   ]
  },
  {
   "cell_type": "code",
   "execution_count": 36,
   "metadata": {},
   "outputs": [
    {
     "name": "stdout",
     "output_type": "stream",
     "text": [
      "Model: \"sequential_3\"\n",
      "_________________________________________________________________\n",
      "Layer (type)                 Output Shape              Param #   \n",
      "=================================================================\n",
      "conv2d_8 (Conv2D)            (None, 62, 62, 512)       14336     \n",
      "_________________________________________________________________\n",
      "max_pooling2d_8 (MaxPooling2 (None, 31, 31, 512)       0         \n",
      "_________________________________________________________________\n",
      "conv2d_9 (Conv2D)            (None, 30, 30, 512)       1049088   \n",
      "_________________________________________________________________\n",
      "max_pooling2d_9 (MaxPooling2 (None, 15, 15, 512)       0         \n",
      "_________________________________________________________________\n",
      "conv2d_10 (Conv2D)           (None, 14, 14, 256)       524544    \n",
      "_________________________________________________________________\n",
      "max_pooling2d_10 (MaxPooling (None, 7, 7, 256)         0         \n",
      "_________________________________________________________________\n",
      "conv2d_11 (Conv2D)           (None, 6, 6, 256)         262400    \n",
      "_________________________________________________________________\n",
      "max_pooling2d_11 (MaxPooling (None, 3, 3, 256)         0         \n",
      "_________________________________________________________________\n",
      "flatten_3 (Flatten)          (None, 2304)              0         \n",
      "_________________________________________________________________\n",
      "dropout_5 (Dropout)          (None, 2304)              0         \n",
      "_________________________________________________________________\n",
      "dense_8 (Dense)              (None, 512)               1180160   \n",
      "_________________________________________________________________\n",
      "dropout_6 (Dropout)          (None, 512)               0         \n",
      "_________________________________________________________________\n",
      "dense_9 (Dense)              (None, 200)               102600    \n",
      "=================================================================\n",
      "Total params: 3,133,128\n",
      "Trainable params: 3,133,128\n",
      "Non-trainable params: 0\n",
      "_________________________________________________________________\n"
     ]
    }
   ],
   "source": [
    "simplecnn = get_simplecnn()\n",
    "simplecnn.summary()"
   ]
  },
  {
   "cell_type": "code",
   "execution_count": 37,
   "metadata": {},
   "outputs": [
    {
     "name": "stderr",
     "output_type": "stream",
     "text": [
      "/Users/uzaymacar/anaconda3/envs/newTF/lib/python3.7/site-packages/keras_applications/mobilenet.py:207: UserWarning: `input_shape` is undefined or non-square, or `rows` is not in [128, 160, 192, 224]. Weights for input shape (224, 224) will be loaded as the default.\n",
      "  warnings.warn('`input_shape` is undefined or non-square, '\n"
     ]
    },
    {
     "name": "stdout",
     "output_type": "stream",
     "text": [
      "Model: \"sequential_4\"\n",
      "_________________________________________________________________\n",
      "Layer (type)                 Output Shape              Param #   \n",
      "=================================================================\n",
      "mobilenet_1.00_224 (Model)   (None, 2, 2, 1024)        3228864   \n",
      "_________________________________________________________________\n",
      "global_average_pooling2d_1 ( (None, 1024)              0         \n",
      "_________________________________________________________________\n",
      "dropout_7 (Dropout)          (None, 1024)              0         \n",
      "_________________________________________________________________\n",
      "dense_10 (Dense)             (None, 200)               205000    \n",
      "=================================================================\n",
      "Total params: 3,433,864\n",
      "Trainable params: 205,000\n",
      "Non-trainable params: 3,228,864\n",
      "_________________________________________________________________\n"
     ]
    }
   ],
   "source": [
    "mobilenet = get_mobilenet()\n",
    "mobilenet.summary()"
   ]
  },
  {
   "cell_type": "code",
   "execution_count": 38,
   "metadata": {},
   "outputs": [
    {
     "name": "stdout",
     "output_type": "stream",
     "text": [
      "Model: \"sequential_5\"\n",
      "_________________________________________________________________\n",
      "Layer (type)                 Output Shape              Param #   \n",
      "=================================================================\n",
      "vgg16 (Model)                (None, 2, 2, 512)         14714688  \n",
      "_________________________________________________________________\n",
      "flatten_4 (Flatten)          (None, 2048)              0         \n",
      "_________________________________________________________________\n",
      "dense_11 (Dense)             (None, 1024)              2098176   \n",
      "_________________________________________________________________\n",
      "dropout_8 (Dropout)          (None, 1024)              0         \n",
      "_________________________________________________________________\n",
      "dense_12 (Dense)             (None, 200)               205000    \n",
      "=================================================================\n",
      "Total params: 17,017,864\n",
      "Trainable params: 2,303,176\n",
      "Non-trainable params: 14,714,688\n",
      "_________________________________________________________________\n"
     ]
    }
   ],
   "source": [
    "vgg16 = get_vgg16()\n",
    "vgg16.summary()"
   ]
  },
  {
   "cell_type": "code",
   "execution_count": 39,
   "metadata": {},
   "outputs": [
    {
     "name": "stdout",
     "output_type": "stream",
     "text": [
      "Loading data into memory...\n",
      "Done.\n"
     ]
    }
   ],
   "source": [
    "# TODO: Remove hardcoding\n",
    "print('Loading data into memory...')\n",
    "train_metadata = load_metadata('./metadata_output/train_metadata.txt')\n",
    "(y_train, encoder) = load_labels(train_metadata)\n",
    "\n",
    "# Interested indices for test data filtering\n",
    "interested_categories = ['n01882714', 'n04562935']\n",
    "interested_one_hot = encoder.transform([[x] for x in interested_categories])\n",
    "interested_indices = np.array([x[1] for x in np.argwhere(interested_one_hot == 1)])\n",
    "print('Done.')"
   ]
  },
  {
   "cell_type": "code",
   "execution_count": 40,
   "metadata": {},
   "outputs": [],
   "source": [
    "# Encoding sanity checks;\n",
    "# assert(len(train_metadata) == len(y_train))\n",
    "# assert(len(set(y_train)) == 200)\n",
    "assert(np.count_nonzero(y_train == 1) == len(train_metadata))\n",
    "# print(y_train)"
   ]
  },
  {
   "cell_type": "markdown",
   "metadata": {},
   "source": [
    "## (1) BASELINE MODEL: VGG16"
   ]
  },
  {
   "cell_type": "code",
   "execution_count": 41,
   "metadata": {},
   "outputs": [
    {
     "name": "stdout",
     "output_type": "stream",
     "text": [
      "Num. Total Images:  70000\n",
      "Num. Train Images:  63000\n",
      "Num. Validation Images:  7000\n"
     ]
    }
   ],
   "source": [
    "# Get all data\n",
    "paths_and_labels = [(train_metadata[x][0], y_train[x]) for x in range(len(y_train))]\n",
    "print('Num. Total Images: ', len(paths_and_labels))\n",
    "\n",
    "# Split data into train and validation sets\n",
    "np.random.shuffle(paths_and_labels)\n",
    "num_validation = int(len(paths_and_labels) * VALIDATION_SPLIT)\n",
    "train_paths_and_labels = paths_and_labels[num_validation:]\n",
    "validation_paths_and_labels = paths_and_labels[:num_validation]\n",
    "print('Num. Train Images: ', len(train_paths_and_labels))\n",
    "print('Num. Validation Images: ', len(validation_paths_and_labels))\n",
    "\n",
    "# Convert training set into a TF dataset via generator\n",
    "train_dataset = tf.data.Dataset.from_generator(\n",
    "    lambda: train_paths_and_labels,\n",
    "    (tf.string, tf.int32),\n",
    "    (tf.TensorShape([]), tf.TensorShape([len(y_train[0])]))\n",
    ")\n",
    "train_dataset = train_dataset.map(lambda x,y: load_image_data(x, y), \n",
    "                                  num_parallel_calls=tf.data.experimental.AUTOTUNE)\n",
    "\n",
    "train_dataset = train_dataset.cache()\n",
    "train_dataset = train_dataset.repeat()\n",
    "train_dataset = train_dataset.batch(BATCH_SIZE)\n",
    "train_dataset = train_dataset.prefetch(buffer_size=tf.data.experimental.AUTOTUNE)\n",
    "\n",
    "# Convert validation set into a TF dataset via generator\n",
    "validation_dataset = tf.data.Dataset.from_generator(\n",
    "    lambda: validation_path_and_labels,\n",
    "    (tf.string, tf.int32),\n",
    "    (tf.TensorShape([]), tf.TensorShape([len(y_train[0])]))\n",
    ")\n",
    "validation_dataset = validation_dataset.map(lambda x,y: load_image_data(x, y), \n",
    "                                            num_parallel_calls=tf.data.experimental.AUTOTUNE)\n",
    "\n",
    "validation_dataset = validation_dataset.cache()\n",
    "validation_dataset = validation_dataset.repeat()\n",
    "validation_dataset = validation_dataset.batch(1)\n",
    "validation_dataset = validation_dataset.prefetch(buffer_size=tf.data.experimental.AUTOTUNE)"
   ]
  },
  {
   "cell_type": "code",
   "execution_count": 45,
   "metadata": {},
   "outputs": [],
   "source": [
    "def train_model(model, train_dataset, validation_dataset, name):    \n",
    "    # Compile model                                                                                                      \n",
    "    model.compile(optimizer=tf.keras.optimizers.Adam(lr=4e-4),                                                           \n",
    "                  loss=tf.keras.losses.CategoricalCrossentropy(from_logits=True),                                  \n",
    "                  metrics=['accuracy'])      \n",
    "    \n",
    "    # Stop early if we're not making good progress                                                                           \n",
    "    early_stop_monitor = tf.keras.callbacks.EarlyStopping(monitor='val_loss',                                                                                              \n",
    "                                                          restore_best_weights=True,                                                                                       \n",
    "                                                          patience=10)   \n",
    "\n",
    "    # Prepare for checkpoints            \n",
    "    checkpoint_path = './checkpoints/' + name + '/cp-{epoch:04d}.ckpt'                                   \n",
    "    cp_callback = tf.keras.callbacks.ModelCheckpoint(filepath=checkpoint_path,                                                                                    \n",
    "                                                     verbose=1,                                                                                                   \n",
    "                                                     save_weights_only=False,                                                                                     \n",
    "                                                     save_freq=25000000)\n",
    "\n",
    "    # Tensorboard                                                                                                        \n",
    "    log_dir=\"logs/fit/\" + datetime.datetime.now().strftime(\"%Y%m%d-%H%M%S\")                                              \n",
    "    tensorboard_callback = tf.keras.callbacks.TensorBoard(log_dir=log_dir, histogram_freq=1)\n",
    "    \n",
    "    history = model.fit(x=train_dataset,\n",
    "                        epochs=NUM_EPOCHS,                                                                                                  \n",
    "                        steps_per_epoch=TRAIN_STEPS_PER_EPOCH,\n",
    "                        callbacks=[tensorboard_callback, cp_callback, early_stop_monitor],\n",
    "                        use_multiprocessing=True,\n",
    "                        validation_steps=num_validation,\n",
    "                        validation_data=validation_dataset,\n",
    "                        shuffle=True)\n",
    "\n",
    "    return history"
   ]
  },
  {
   "cell_type": "code",
   "execution_count": 46,
   "metadata": {},
   "outputs": [],
   "source": [
    "# Evaluate model on interesting inputs\n",
    "def evaluate_model(model, test_sets):\n",
    "    for test_set in test_sets:\n",
    "        X = test_set[0]\n",
    "        y = test_set[1]\n",
    "        model.evaluate(X, y)"
   ]
  },
  {
   "cell_type": "code",
   "execution_count": null,
   "metadata": {},
   "outputs": [
    {
     "name": "stdout",
     "output_type": "stream",
     "text": [
      "Train for 1200 steps, validate for 7000 steps\n",
      "Epoch 1/250\n",
      "  27/1200 [..............................] - ETA: 22:10 - loss: 5.2965 - accuracy: 0.0069"
     ]
    }
   ],
   "source": [
    "# Train and save model\n",
    "train_model(mobilenet, train_dataset, validation_dataset, 'mobilenet_imbalanced')"
   ]
  },
  {
   "cell_type": "code",
   "execution_count": null,
   "metadata": {},
   "outputs": [],
   "source": [
    "if not os.path.exists(os.path.join('models', 'mobilenet_imbalanced')):\n",
    "    os.makedirs(os.path.join('models', 'mobilenet_imbalanced'))\n",
    "    \n",
    "mobilenet.save(os.path.join('models', 'mobilenet_imbalanced'))\n",
    "print('model saved')"
   ]
  },
  {
   "cell_type": "code",
   "execution_count": null,
   "metadata": {},
   "outputs": [],
   "source": [
    "# TODO: Load test data, filter for interest, evaluate model"
   ]
  },
  {
   "cell_type": "markdown",
   "metadata": {},
   "source": [
    "## (2) MOBILENET + STANDARD AUGMENTATIONS"
   ]
  },
  {
   "cell_type": "code",
   "execution_count": null,
   "metadata": {},
   "outputs": [],
   "source": [
    "# TODO: We have to somehow incorporate the below with tf.Datasets\n",
    "train_datagen = ImageDataGenerator(\n",
    "    rotation_range=45,\n",
    "    width_shift_range=0.4,\n",
    "    height_shift_range=0.4,\n",
    "    zoom_range=[0.4, 1.6],\n",
    "    horizontal_flip=True,\n",
    "    brightness_range=(0.6, 1.4),\n",
    "    fill_mode='nearest',\n",
    ")"
   ]
  },
  {
   "cell_type": "markdown",
   "metadata": {},
   "source": [
    "## (3) MOBILENET + SINGAN"
   ]
  },
  {
   "cell_type": "code",
   "execution_count": null,
   "metadata": {},
   "outputs": [],
   "source": []
  }
 ],
 "metadata": {
  "kernelspec": {
   "display_name": "Python 3",
   "language": "python",
   "name": "python3"
  },
  "language_info": {
   "codemirror_mode": {
    "name": "ipython",
    "version": 3
   },
   "file_extension": ".py",
   "mimetype": "text/x-python",
   "name": "python",
   "nbconvert_exporter": "python",
   "pygments_lexer": "ipython3",
   "version": "3.7.4"
  }
 },
 "nbformat": 4,
 "nbformat_minor": 2
}
